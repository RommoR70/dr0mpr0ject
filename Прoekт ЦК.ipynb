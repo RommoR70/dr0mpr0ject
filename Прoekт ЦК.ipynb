{
 "cells": [
  {
   "cell_type": "markdown",
   "id": "c3c0ce41",
   "metadata": {},
   "source": [
    "# Общие подсчеты"
   ]
  },
  {
   "cell_type": "code",
   "execution_count": 2,
   "id": "6e4c188a",
   "metadata": {
    "ExecuteTime": {
     "end_time": "2024-07-24T13:52:21.674178Z",
     "start_time": "2024-07-24T13:52:17.817985Z"
    }
   },
   "outputs": [],
   "source": [
    "import pandas as pd\n",
    "import matplotlib.pyplot as plt\n",
    "import numpy as np\n",
    "import seaborn as sns\n",
    "import scipy.stats as stats\n",
    "from statsmodels.stats.power import tt_ind_solve_power, zt_ind_solve_power\n",
    "from statsmodels.stats import proportion\n",
    "from statsmodels.stats.meta_analysis import effectsize_smd\n",
    "\n",
    "from tqdm import tqdm\n",
    "\n",
    "import warnings\n",
    "warnings.filterwarnings('ignore')"
   ]
  },
  {
   "cell_type": "markdown",
   "id": "860f440b",
   "metadata": {
    "ExecuteTime": {
     "end_time": "2024-07-17T09:11:28.165013Z",
     "start_time": "2024-07-17T09:11:28.153799Z"
    }
   },
   "source": [
    "## Работа с датасетом"
   ]
  },
  {
   "cell_type": "code",
   "execution_count": 3,
   "id": "0a77f478",
   "metadata": {
    "ExecuteTime": {
     "end_time": "2024-07-24T13:52:22.086708Z",
     "start_time": "2024-07-24T13:52:21.674178Z"
    },
    "scrolled": false
   },
   "outputs": [
    {
     "data": {
      "text/html": [
       "<div>\n",
       "<style scoped>\n",
       "    .dataframe tbody tr th:only-of-type {\n",
       "        vertical-align: middle;\n",
       "    }\n",
       "\n",
       "    .dataframe tbody tr th {\n",
       "        vertical-align: top;\n",
       "    }\n",
       "\n",
       "    .dataframe thead th {\n",
       "        text-align: right;\n",
       "    }\n",
       "</style>\n",
       "<table border=\"1\" class=\"dataframe\">\n",
       "  <thead>\n",
       "    <tr style=\"text-align: right;\">\n",
       "      <th></th>\n",
       "      <th>dt</th>\n",
       "      <th>tme</th>\n",
       "      <th>host</th>\n",
       "      <th>uri</th>\n",
       "      <th>uuid</th>\n",
       "      <th>http_referer</th>\n",
       "    </tr>\n",
       "  </thead>\n",
       "  <tbody>\n",
       "    <tr>\n",
       "      <th>0</th>\n",
       "      <td>2024-03-11</td>\n",
       "      <td>2024-03-11 02:24:05</td>\n",
       "      <td>www.drom.ru</td>\n",
       "      <td>/reviews/mazda/</td>\n",
       "      <td>2DFFCEFAE7058EADEC2146CC6909D61F9</td>\n",
       "      <td>NaN</td>\n",
       "    </tr>\n",
       "    <tr>\n",
       "      <th>1</th>\n",
       "      <td>2024-03-11</td>\n",
       "      <td>2024-03-11 08:32:45</td>\n",
       "      <td>www.drom.ru</td>\n",
       "      <td>/reviews/mazda/</td>\n",
       "      <td>AF07979ACDDE0FB05AC0BA043618C1C01</td>\n",
       "      <td>NaN</td>\n",
       "    </tr>\n",
       "    <tr>\n",
       "      <th>2</th>\n",
       "      <td>2024-03-11</td>\n",
       "      <td>2024-03-10 14:21:12</td>\n",
       "      <td>www.drom.ru</td>\n",
       "      <td>/reviews/</td>\n",
       "      <td>B09421E2D5E29714C394D2408D0DF9FE1</td>\n",
       "      <td>NaN</td>\n",
       "    </tr>\n",
       "    <tr>\n",
       "      <th>3</th>\n",
       "      <td>2024-03-11</td>\n",
       "      <td>2024-03-10 22:34:45</td>\n",
       "      <td>www.drom.ru</td>\n",
       "      <td>/reviews/mazda/</td>\n",
       "      <td>17D10C2F9AA72622A403E5BFB5EAA7556</td>\n",
       "      <td>NaN</td>\n",
       "    </tr>\n",
       "    <tr>\n",
       "      <th>4</th>\n",
       "      <td>2024-03-11</td>\n",
       "      <td>2024-03-11 05:35:15</td>\n",
       "      <td>www.drom.ru</td>\n",
       "      <td>/reviews/toyota/</td>\n",
       "      <td>5966060A2DE813BA4F89F6BD935A94717</td>\n",
       "      <td>NaN</td>\n",
       "    </tr>\n",
       "    <tr>\n",
       "      <th>...</th>\n",
       "      <td>...</td>\n",
       "      <td>...</td>\n",
       "      <td>...</td>\n",
       "      <td>...</td>\n",
       "      <td>...</td>\n",
       "      <td>...</td>\n",
       "    </tr>\n",
       "    <tr>\n",
       "      <th>226177</th>\n",
       "      <td>2024-03-22</td>\n",
       "      <td>2024-03-22 08:58:23</td>\n",
       "      <td>www.drom.ru</td>\n",
       "      <td>/reviews/mazda/</td>\n",
       "      <td>E192F5E74CB3D84D7C33F379E710F49E3</td>\n",
       "      <td>NaN</td>\n",
       "    </tr>\n",
       "    <tr>\n",
       "      <th>226178</th>\n",
       "      <td>2024-03-22</td>\n",
       "      <td>2024-03-21 18:53:44</td>\n",
       "      <td>www.drom.ru</td>\n",
       "      <td>/reviews/lexus/</td>\n",
       "      <td>F3028CCAE63D57FB9B1A64497678E2942</td>\n",
       "      <td>https://www.google.com/</td>\n",
       "    </tr>\n",
       "    <tr>\n",
       "      <th>226179</th>\n",
       "      <td>2024-03-22</td>\n",
       "      <td>2024-03-22 01:46:43</td>\n",
       "      <td>www.drom.ru</td>\n",
       "      <td>/reviews/mazda/</td>\n",
       "      <td>7A85E679791B520B10F9B02FB7FD3A8B5</td>\n",
       "      <td>NaN</td>\n",
       "    </tr>\n",
       "    <tr>\n",
       "      <th>226180</th>\n",
       "      <td>2024-03-22</td>\n",
       "      <td>2024-03-22 09:11:23</td>\n",
       "      <td>www.drom.ru</td>\n",
       "      <td>/reviews/mazda/</td>\n",
       "      <td>11BAEC40C54F7363EDF00FAD09F90D303</td>\n",
       "      <td>NaN</td>\n",
       "    </tr>\n",
       "    <tr>\n",
       "      <th>226181</th>\n",
       "      <td>2024-03-22</td>\n",
       "      <td>2024-03-22 00:16:09</td>\n",
       "      <td>www.drom.ru</td>\n",
       "      <td>/reviews/faw/</td>\n",
       "      <td>06EB010B7F4801EBE7F302C1F8D577E18</td>\n",
       "      <td>NaN</td>\n",
       "    </tr>\n",
       "  </tbody>\n",
       "</table>\n",
       "<p>226182 rows × 6 columns</p>\n",
       "</div>"
      ],
      "text/plain": [
       "                dt                  tme         host               uri  \\\n",
       "0       2024-03-11  2024-03-11 02:24:05  www.drom.ru   /reviews/mazda/   \n",
       "1       2024-03-11  2024-03-11 08:32:45  www.drom.ru   /reviews/mazda/   \n",
       "2       2024-03-11  2024-03-10 14:21:12  www.drom.ru         /reviews/   \n",
       "3       2024-03-11  2024-03-10 22:34:45  www.drom.ru   /reviews/mazda/   \n",
       "4       2024-03-11  2024-03-11 05:35:15  www.drom.ru  /reviews/toyota/   \n",
       "...            ...                  ...          ...               ...   \n",
       "226177  2024-03-22  2024-03-22 08:58:23  www.drom.ru   /reviews/mazda/   \n",
       "226178  2024-03-22  2024-03-21 18:53:44  www.drom.ru   /reviews/lexus/   \n",
       "226179  2024-03-22  2024-03-22 01:46:43  www.drom.ru   /reviews/mazda/   \n",
       "226180  2024-03-22  2024-03-22 09:11:23  www.drom.ru   /reviews/mazda/   \n",
       "226181  2024-03-22  2024-03-22 00:16:09  www.drom.ru     /reviews/faw/   \n",
       "\n",
       "                                     uuid             http_referer  \n",
       "0       2DFFCEFAE7058EADEC2146CC6909D61F9                      NaN  \n",
       "1       AF07979ACDDE0FB05AC0BA043618C1C01                      NaN  \n",
       "2       B09421E2D5E29714C394D2408D0DF9FE1                      NaN  \n",
       "3       17D10C2F9AA72622A403E5BFB5EAA7556                      NaN  \n",
       "4       5966060A2DE813BA4F89F6BD935A94717                      NaN  \n",
       "...                                   ...                      ...  \n",
       "226177  E192F5E74CB3D84D7C33F379E710F49E3                      NaN  \n",
       "226178  F3028CCAE63D57FB9B1A64497678E2942  https://www.google.com/  \n",
       "226179  7A85E679791B520B10F9B02FB7FD3A8B5                      NaN  \n",
       "226180  11BAEC40C54F7363EDF00FAD09F90D303                      NaN  \n",
       "226181  06EB010B7F4801EBE7F302C1F8D577E18                      NaN  \n",
       "\n",
       "[226182 rows x 6 columns]"
      ]
     },
     "execution_count": 3,
     "metadata": {},
     "output_type": "execute_result"
    }
   ],
   "source": [
    "df = pd.read_csv('access_log_202406061530.csv',sep=';')\n",
    "df"
   ]
  },
  {
   "cell_type": "code",
   "execution_count": 4,
   "id": "de5a7ce0",
   "metadata": {
    "ExecuteTime": {
     "end_time": "2024-07-24T13:52:22.106518Z",
     "start_time": "2024-07-24T13:52:22.089436Z"
    }
   },
   "outputs": [
    {
     "data": {
      "text/plain": [
       "['2024-03-11',\n",
       " '2024-03-12',\n",
       " '2024-03-13',\n",
       " '2024-03-14',\n",
       " '2024-03-15',\n",
       " '2024-03-16',\n",
       " '2024-03-17',\n",
       " '2024-03-18',\n",
       " '2024-03-19',\n",
       " '2024-03-20',\n",
       " '2024-03-21',\n",
       " '2024-03-22']"
      ]
     },
     "execution_count": 4,
     "metadata": {},
     "output_type": "execute_result"
    }
   ],
   "source": [
    "sorted(df.dt.unique()) \n",
    "# эксперимент шел 1 неделю, 11-17 числа, другие убрать(?)"
   ]
  },
  {
   "cell_type": "code",
   "execution_count": 5,
   "id": "c9ae750c",
   "metadata": {
    "ExecuteTime": {
     "end_time": "2024-07-24T13:52:22.148147Z",
     "start_time": "2024-07-24T13:52:22.110143Z"
    },
    "scrolled": false
   },
   "outputs": [
    {
     "data": {
      "text/html": [
       "<div>\n",
       "<style scoped>\n",
       "    .dataframe tbody tr th:only-of-type {\n",
       "        vertical-align: middle;\n",
       "    }\n",
       "\n",
       "    .dataframe tbody tr th {\n",
       "        vertical-align: top;\n",
       "    }\n",
       "\n",
       "    .dataframe thead th {\n",
       "        text-align: right;\n",
       "    }\n",
       "</style>\n",
       "<table border=\"1\" class=\"dataframe\">\n",
       "  <thead>\n",
       "    <tr style=\"text-align: right;\">\n",
       "      <th></th>\n",
       "      <th>dt</th>\n",
       "      <th>tme</th>\n",
       "      <th>host</th>\n",
       "      <th>uri</th>\n",
       "      <th>uuid</th>\n",
       "      <th>http_referer</th>\n",
       "    </tr>\n",
       "  </thead>\n",
       "  <tbody>\n",
       "    <tr>\n",
       "      <th>214826</th>\n",
       "      <td>2024-03-14</td>\n",
       "      <td>2024-03-13 17:02:35</td>\n",
       "      <td>www.drom.ru</td>\n",
       "      <td>/reviews/moskvitch/</td>\n",
       "      <td>00DD5ED339260D8DA125A8D4405654080</td>\n",
       "      <td>https://www.drom.ru/reviews/</td>\n",
       "    </tr>\n",
       "    <tr>\n",
       "      <th>214831</th>\n",
       "      <td>2024-03-14</td>\n",
       "      <td>2024-03-13 14:46:49</td>\n",
       "      <td>www.drom.ru</td>\n",
       "      <td>/reviews/mazda/</td>\n",
       "      <td>B113F0B3E6457163BBB90CA5B28A689E8</td>\n",
       "      <td>NaN</td>\n",
       "    </tr>\n",
       "    <tr>\n",
       "      <th>214839</th>\n",
       "      <td>2024-03-14</td>\n",
       "      <td>2024-03-13 15:40:59</td>\n",
       "      <td>www.drom.ru</td>\n",
       "      <td>/reviews/toyota/</td>\n",
       "      <td>D3BA2E143DA0D866C85BD140A8CDCD620</td>\n",
       "      <td>NaN</td>\n",
       "    </tr>\n",
       "    <tr>\n",
       "      <th>214840</th>\n",
       "      <td>2024-03-14</td>\n",
       "      <td>2024-03-14 00:38:40</td>\n",
       "      <td>www.drom.ru</td>\n",
       "      <td>/reviews/toyota/</td>\n",
       "      <td>C726B5A4822236D345F48099A85A76258</td>\n",
       "      <td>NaN</td>\n",
       "    </tr>\n",
       "    <tr>\n",
       "      <th>214846</th>\n",
       "      <td>2024-03-14</td>\n",
       "      <td>2024-03-13 18:37:07</td>\n",
       "      <td>www.drom.ru</td>\n",
       "      <td>/reviews/</td>\n",
       "      <td>0C30AB121610E92EA218004A17A55F069</td>\n",
       "      <td>https://www.drom.ru/reviews/hongqi/e-hs9/</td>\n",
       "    </tr>\n",
       "  </tbody>\n",
       "</table>\n",
       "</div>"
      ],
      "text/plain": [
       "                dt                  tme         host                  uri  \\\n",
       "214826  2024-03-14  2024-03-13 17:02:35  www.drom.ru  /reviews/moskvitch/   \n",
       "214831  2024-03-14  2024-03-13 14:46:49  www.drom.ru      /reviews/mazda/   \n",
       "214839  2024-03-14  2024-03-13 15:40:59  www.drom.ru     /reviews/toyota/   \n",
       "214840  2024-03-14  2024-03-14 00:38:40  www.drom.ru     /reviews/toyota/   \n",
       "214846  2024-03-14  2024-03-13 18:37:07  www.drom.ru            /reviews/   \n",
       "\n",
       "                                     uuid  \\\n",
       "214826  00DD5ED339260D8DA125A8D4405654080   \n",
       "214831  B113F0B3E6457163BBB90CA5B28A689E8   \n",
       "214839  D3BA2E143DA0D866C85BD140A8CDCD620   \n",
       "214840  C726B5A4822236D345F48099A85A76258   \n",
       "214846  0C30AB121610E92EA218004A17A55F069   \n",
       "\n",
       "                                     http_referer  \n",
       "214826               https://www.drom.ru/reviews/  \n",
       "214831                                        NaN  \n",
       "214839                                        NaN  \n",
       "214840                                        NaN  \n",
       "214846  https://www.drom.ru/reviews/hongqi/e-hs9/  "
      ]
     },
     "execution_count": 5,
     "metadata": {},
     "output_type": "execute_result"
    }
   ],
   "source": [
    "df = df[df.dt <= '2024-03-17']\n",
    "df.tail()"
   ]
  },
  {
   "cell_type": "code",
   "execution_count": 6,
   "id": "889d0283",
   "metadata": {
    "ExecuteTime": {
     "end_time": "2024-07-24T13:52:22.208049Z",
     "start_time": "2024-07-24T13:52:22.148147Z"
    },
    "scrolled": false
   },
   "outputs": [
    {
     "data": {
      "text/html": [
       "<div>\n",
       "<style scoped>\n",
       "    .dataframe tbody tr th:only-of-type {\n",
       "        vertical-align: middle;\n",
       "    }\n",
       "\n",
       "    .dataframe tbody tr th {\n",
       "        vertical-align: top;\n",
       "    }\n",
       "\n",
       "    .dataframe thead th {\n",
       "        text-align: right;\n",
       "    }\n",
       "</style>\n",
       "<table border=\"1\" class=\"dataframe\">\n",
       "  <thead>\n",
       "    <tr style=\"text-align: right;\">\n",
       "      <th></th>\n",
       "      <th>dt</th>\n",
       "      <th>tme</th>\n",
       "      <th>host</th>\n",
       "      <th>uri</th>\n",
       "      <th>uuid</th>\n",
       "      <th>http_referer</th>\n",
       "      <th>group</th>\n",
       "    </tr>\n",
       "  </thead>\n",
       "  <tbody>\n",
       "    <tr>\n",
       "      <th>0</th>\n",
       "      <td>2024-03-11</td>\n",
       "      <td>2024-03-11 02:24:05</td>\n",
       "      <td>www.drom.ru</td>\n",
       "      <td>/reviews/mazda/</td>\n",
       "      <td>2DFFCEFAE7058EADEC2146CC6909D61F9</td>\n",
       "      <td>NaN</td>\n",
       "      <td>B</td>\n",
       "    </tr>\n",
       "    <tr>\n",
       "      <th>1</th>\n",
       "      <td>2024-03-11</td>\n",
       "      <td>2024-03-11 08:32:45</td>\n",
       "      <td>www.drom.ru</td>\n",
       "      <td>/reviews/mazda/</td>\n",
       "      <td>AF07979ACDDE0FB05AC0BA043618C1C01</td>\n",
       "      <td>NaN</td>\n",
       "      <td>B</td>\n",
       "    </tr>\n",
       "    <tr>\n",
       "      <th>2</th>\n",
       "      <td>2024-03-11</td>\n",
       "      <td>2024-03-10 14:21:12</td>\n",
       "      <td>www.drom.ru</td>\n",
       "      <td>/reviews/</td>\n",
       "      <td>B09421E2D5E29714C394D2408D0DF9FE1</td>\n",
       "      <td>NaN</td>\n",
       "      <td>B</td>\n",
       "    </tr>\n",
       "    <tr>\n",
       "      <th>3</th>\n",
       "      <td>2024-03-11</td>\n",
       "      <td>2024-03-10 22:34:45</td>\n",
       "      <td>www.drom.ru</td>\n",
       "      <td>/reviews/mazda/</td>\n",
       "      <td>17D10C2F9AA72622A403E5BFB5EAA7556</td>\n",
       "      <td>NaN</td>\n",
       "      <td>A</td>\n",
       "    </tr>\n",
       "    <tr>\n",
       "      <th>4</th>\n",
       "      <td>2024-03-11</td>\n",
       "      <td>2024-03-11 05:35:15</td>\n",
       "      <td>www.drom.ru</td>\n",
       "      <td>/reviews/toyota/</td>\n",
       "      <td>5966060A2DE813BA4F89F6BD935A94717</td>\n",
       "      <td>NaN</td>\n",
       "      <td>B</td>\n",
       "    </tr>\n",
       "  </tbody>\n",
       "</table>\n",
       "</div>"
      ],
      "text/plain": [
       "           dt                  tme         host               uri  \\\n",
       "0  2024-03-11  2024-03-11 02:24:05  www.drom.ru   /reviews/mazda/   \n",
       "1  2024-03-11  2024-03-11 08:32:45  www.drom.ru   /reviews/mazda/   \n",
       "2  2024-03-11  2024-03-10 14:21:12  www.drom.ru         /reviews/   \n",
       "3  2024-03-11  2024-03-10 22:34:45  www.drom.ru   /reviews/mazda/   \n",
       "4  2024-03-11  2024-03-11 05:35:15  www.drom.ru  /reviews/toyota/   \n",
       "\n",
       "                                uuid http_referer group  \n",
       "0  2DFFCEFAE7058EADEC2146CC6909D61F9          NaN     B  \n",
       "1  AF07979ACDDE0FB05AC0BA043618C1C01          NaN     B  \n",
       "2  B09421E2D5E29714C394D2408D0DF9FE1          NaN     B  \n",
       "3  17D10C2F9AA72622A403E5BFB5EAA7556          NaN     A  \n",
       "4  5966060A2DE813BA4F89F6BD935A94717          NaN     B  "
      ]
     },
     "execution_count": 6,
     "metadata": {},
     "output_type": "execute_result"
    }
   ],
   "source": [
    "df['group'] = df['uuid'].apply(lambda x: 'A' if int(x[-1])%2 == 0 else 'B')\n",
    "df.head()"
   ]
  },
  {
   "cell_type": "code",
   "execution_count": 7,
   "id": "d0e94dd5",
   "metadata": {
    "ExecuteTime": {
     "end_time": "2024-07-24T13:52:22.258842Z",
     "start_time": "2024-07-24T13:52:22.210420Z"
    }
   },
   "outputs": [
    {
     "data": {
      "text/plain": [
       "group\n",
       "A    40239\n",
       "B    39829\n",
       "Name: uuid, dtype: int64"
      ]
     },
     "execution_count": 7,
     "metadata": {},
     "output_type": "execute_result"
    }
   ],
   "source": [
    "# число юзеров в выборке\n",
    "df.groupby('group')['uuid'].nunique()"
   ]
  },
  {
   "cell_type": "markdown",
   "id": "25812ae5",
   "metadata": {},
   "source": [
    "## Работа с посещаемостью раздела с отзывами"
   ]
  },
  {
   "cell_type": "code",
   "execution_count": 37,
   "id": "e31395d9",
   "metadata": {
    "ExecuteTime": {
     "end_time": "2024-07-24T14:44:12.352951Z",
     "start_time": "2024-07-24T14:44:12.334366Z"
    }
   },
   "outputs": [
    {
     "data": {
      "text/plain": [
       "group\n",
       "A    65949\n",
       "B    67037\n",
       "Name: uri, dtype: int64"
      ]
     },
     "execution_count": 37,
     "metadata": {},
     "output_type": "execute_result"
    }
   ],
   "source": [
    "# число посещений всего\n",
    "df.groupby('group')['uri'].count()"
   ]
  },
  {
   "cell_type": "code",
   "execution_count": 40,
   "id": "ed0a3007",
   "metadata": {
    "ExecuteTime": {
     "end_time": "2024-07-24T14:46:56.884943Z",
     "start_time": "2024-07-24T14:46:56.863467Z"
    }
   },
   "outputs": [
    {
     "data": {
      "text/html": [
       "<div>\n",
       "<style scoped>\n",
       "    .dataframe tbody tr th:only-of-type {\n",
       "        vertical-align: middle;\n",
       "    }\n",
       "\n",
       "    .dataframe tbody tr th {\n",
       "        vertical-align: top;\n",
       "    }\n",
       "\n",
       "    .dataframe thead th {\n",
       "        text-align: right;\n",
       "    }\n",
       "</style>\n",
       "<table border=\"1\" class=\"dataframe\">\n",
       "  <thead>\n",
       "    <tr style=\"text-align: right;\">\n",
       "      <th></th>\n",
       "      <th>count</th>\n",
       "      <th>mean</th>\n",
       "      <th>std</th>\n",
       "      <th>min</th>\n",
       "      <th>25%</th>\n",
       "      <th>50%</th>\n",
       "      <th>75%</th>\n",
       "      <th>max</th>\n",
       "    </tr>\n",
       "    <tr>\n",
       "      <th>group</th>\n",
       "      <th></th>\n",
       "      <th></th>\n",
       "      <th></th>\n",
       "      <th></th>\n",
       "      <th></th>\n",
       "      <th></th>\n",
       "      <th></th>\n",
       "      <th></th>\n",
       "    </tr>\n",
       "  </thead>\n",
       "  <tbody>\n",
       "    <tr>\n",
       "      <th>A</th>\n",
       "      <td>40239.0</td>\n",
       "      <td>1.638932</td>\n",
       "      <td>2.881048</td>\n",
       "      <td>1.0</td>\n",
       "      <td>1.0</td>\n",
       "      <td>1.0</td>\n",
       "      <td>1.0</td>\n",
       "      <td>293.0</td>\n",
       "    </tr>\n",
       "    <tr>\n",
       "      <th>B</th>\n",
       "      <td>39829.0</td>\n",
       "      <td>1.683120</td>\n",
       "      <td>3.896199</td>\n",
       "      <td>1.0</td>\n",
       "      <td>1.0</td>\n",
       "      <td>1.0</td>\n",
       "      <td>1.0</td>\n",
       "      <td>319.0</td>\n",
       "    </tr>\n",
       "  </tbody>\n",
       "</table>\n",
       "</div>"
      ],
      "text/plain": [
       "         count      mean       std  min  25%  50%  75%    max\n",
       "group                                                        \n",
       "A      40239.0  1.638932  2.881048  1.0  1.0  1.0  1.0  293.0\n",
       "B      39829.0  1.683120  3.896199  1.0  1.0  1.0  1.0  319.0"
      ]
     },
     "execution_count": 40,
     "metadata": {},
     "output_type": "execute_result"
    }
   ],
   "source": [
    "visits.groupby('group')['uri'].describe()"
   ]
  },
  {
   "cell_type": "code",
   "execution_count": 41,
   "id": "bec43c46",
   "metadata": {
    "ExecuteTime": {
     "end_time": "2024-07-24T14:46:57.116419Z",
     "start_time": "2024-07-24T14:46:57.089040Z"
    },
    "code_folding": [],
    "scrolled": true
   },
   "outputs": [
    {
     "data": {
      "text/html": [
       "<div>\n",
       "<style scoped>\n",
       "    .dataframe tbody tr th:only-of-type {\n",
       "        vertical-align: middle;\n",
       "    }\n",
       "\n",
       "    .dataframe tbody tr th {\n",
       "        vertical-align: top;\n",
       "    }\n",
       "\n",
       "    .dataframe thead th {\n",
       "        text-align: right;\n",
       "    }\n",
       "</style>\n",
       "<table border=\"1\" class=\"dataframe\">\n",
       "  <thead>\n",
       "    <tr style=\"text-align: right;\">\n",
       "      <th></th>\n",
       "      <th>0%</th>\n",
       "      <th>10%</th>\n",
       "      <th>20%</th>\n",
       "      <th>30%</th>\n",
       "      <th>40%</th>\n",
       "      <th>50%</th>\n",
       "      <th>60%</th>\n",
       "      <th>70%</th>\n",
       "      <th>80%</th>\n",
       "      <th>90%</th>\n",
       "      <th>95%</th>\n",
       "      <th>99%</th>\n",
       "      <th>99%</th>\n",
       "    </tr>\n",
       "    <tr>\n",
       "      <th>group</th>\n",
       "      <th></th>\n",
       "      <th></th>\n",
       "      <th></th>\n",
       "      <th></th>\n",
       "      <th></th>\n",
       "      <th></th>\n",
       "      <th></th>\n",
       "      <th></th>\n",
       "      <th></th>\n",
       "      <th></th>\n",
       "      <th></th>\n",
       "      <th></th>\n",
       "      <th></th>\n",
       "    </tr>\n",
       "  </thead>\n",
       "  <tbody>\n",
       "    <tr>\n",
       "      <th>A</th>\n",
       "      <td>1.0</td>\n",
       "      <td>1.0</td>\n",
       "      <td>1.0</td>\n",
       "      <td>1.0</td>\n",
       "      <td>1.0</td>\n",
       "      <td>1.0</td>\n",
       "      <td>1.0</td>\n",
       "      <td>1.0</td>\n",
       "      <td>1.0</td>\n",
       "      <td>3.0</td>\n",
       "      <td>4.0</td>\n",
       "      <td>11.62</td>\n",
       "      <td>18.0</td>\n",
       "    </tr>\n",
       "    <tr>\n",
       "      <th>B</th>\n",
       "      <td>1.0</td>\n",
       "      <td>1.0</td>\n",
       "      <td>1.0</td>\n",
       "      <td>1.0</td>\n",
       "      <td>1.0</td>\n",
       "      <td>1.0</td>\n",
       "      <td>1.0</td>\n",
       "      <td>1.0</td>\n",
       "      <td>1.0</td>\n",
       "      <td>3.0</td>\n",
       "      <td>4.0</td>\n",
       "      <td>11.00</td>\n",
       "      <td>19.0</td>\n",
       "    </tr>\n",
       "  </tbody>\n",
       "</table>\n",
       "</div>"
      ],
      "text/plain": [
       "        0%  10%  20%  30%  40%  50%  60%  70%  80%  90%  95%    99%   99%\n",
       "group                                                                    \n",
       "A      1.0  1.0  1.0  1.0  1.0  1.0  1.0  1.0  1.0  3.0  4.0  11.62  18.0\n",
       "B      1.0  1.0  1.0  1.0  1.0  1.0  1.0  1.0  1.0  3.0  4.0  11.00  19.0"
      ]
     },
     "execution_count": 41,
     "metadata": {},
     "output_type": "execute_result"
    }
   ],
   "source": [
    "\n",
    "def group_percentiles(df, group_col, value_col, percentiles=[i*0.1 for i in range(10)]+[0.95,0.99,0.996]):\n",
    "    \"\"\"\n",
    "    Вычисляет процентильные значения для каждой группы в DataFrame.\n",
    "\n",
    "    :param df: pandas DataFrame с данными\n",
    "    :param group_col: название колонки с группами\n",
    "    :param value_col: название колонки со значениями\n",
    "    :param percentiles: список процентилей, которые нужно вычислить (значения от 0 до 1)\n",
    "    :return: DataFrame с процентильными значениями для каждой группы\n",
    "    \"\"\"\n",
    "    grouped = df.groupby(group_col)[value_col].quantile(percentiles).unstack(level=1)\n",
    "    grouped.columns = [f'{int(p*100)}%' for p in grouped.columns]\n",
    "    return grouped\n",
    "\n",
    "percentiles_df = group_percentiles(visits, 'group', 'uri')\n",
    "percentiles_df"
   ]
  },
  {
   "cell_type": "markdown",
   "id": "e51e771f",
   "metadata": {},
   "source": [
    "видно перекос в данных, построим распределение"
   ]
  },
  {
   "cell_type": "code",
   "execution_count": 42,
   "id": "ec5e62cc",
   "metadata": {
    "ExecuteTime": {
     "end_time": "2024-07-24T14:46:58.615903Z",
     "start_time": "2024-07-24T14:46:57.658577Z"
    },
    "scrolled": true
   },
   "outputs": [
    {
     "data": {
      "image/png": "[encoded data removed]",
      "text/plain": [
       "<Figure size 1500x500 with 2 Axes>"
      ]
     },
     "metadata": {},
     "output_type": "display_data"
    }
   ],
   "source": [
    "fig, axs = plt.subplots(1, 2, figsize=(15, 5), sharex=False)\n",
    "axs[0].hist(visits[visits['group'] == 'A']['uri'], bins=319, density=False, alpha=1, color='blue')\n",
    "axs[0].set_title('Группа А')\n",
    "axs[1].hist(visits[visits['group'] == 'B']['uri'], bins=319, density=False, alpha=1, color='red');\n",
    "axs[1].set_title('Группа B');\n"
   ]
  },
  {
   "cell_type": "code",
   "execution_count": 43,
   "id": "7308e43f",
   "metadata": {
    "ExecuteTime": {
     "end_time": "2024-07-24T14:46:59.533085Z",
     "start_time": "2024-07-24T14:46:58.617808Z"
    }
   },
   "outputs": [
    {
     "data": {
      "image/png": "[encoded data removed]",
      "text/plain": [
       "<Figure size 1500x500 with 2 Axes>"
      ]
     },
     "metadata": {},
     "output_type": "display_data"
    }
   ],
   "source": [
    "# сократим масштаб до 50\n",
    "fig, axs = plt.subplots(1, 2, figsize=(15, 5))\n",
    "axs[0].hist(visits[visits['group'] == 'A']['uri'], bins=319, density=True, alpha=1, color='blue')\n",
    "axs[0].set_title('Группа А')\n",
    "axs[0].set_xlim(0,50)\n",
    "axs[0].set_ylim(0,1)\n",
    "axs[1].hist(visits[visits['group'] == 'B']['uri'], bins=319, density=True, alpha=1, color='red');\n",
    "axs[1].set_title('Группа B')\n",
    "axs[1].set_xlim(0,50)\n",
    "axs[1].set_ylim(0,1);"
   ]
  },
  {
   "cell_type": "code",
   "execution_count": 44,
   "id": "32a9219d",
   "metadata": {
    "ExecuteTime": {
     "end_time": "2024-07-24T14:46:59.557967Z",
     "start_time": "2024-07-24T14:46:59.534108Z"
    }
   },
   "outputs": [
    {
     "data": {
      "text/plain": [
       "group  uri\n",
       "A      1      0.801287\n",
       "       2      0.897860\n",
       "       3      0.926564\n",
       "       4      0.953055\n",
       "       5      0.965307\n",
       "       6      0.974030\n",
       "       7      0.979448\n",
       "       8      0.983573\n",
       "       9      0.986282\n",
       "       10     0.988519\n",
       "       11     0.989985\n",
       "       12     0.991451\n",
       "       13     0.992917\n",
       "       14     0.993762\n",
       "       15     0.994533\n",
       "       16     0.995253\n",
       "       17     0.995825\n",
       "       18     0.996297\n",
       "       19     0.996744\n",
       "       20     0.997217\n",
       "       21     0.997540\n",
       "       22     0.997813\n",
       "       23     0.998037\n",
       "       24     0.998136\n",
       "       25     0.998285\n",
       "       26     0.998410\n",
       "       27     0.998608\n",
       "       28     0.998882\n",
       "       29     0.998981\n",
       "       30     0.999031\n",
       "       31     0.999056\n",
       "       32     0.999080\n",
       "       33     0.999105\n",
       "       34     0.999180\n",
       "       35     0.999205\n",
       "       36     0.999279\n",
       "       37     0.999329\n",
       "       38     0.999379\n",
       "       39     0.999404\n",
       "       41     0.999453\n",
       "       43     0.999503\n",
       "       45     0.999528\n",
       "       46     0.999553\n",
       "       47     0.999602\n",
       "       48     0.999677\n",
       "       49     0.999702\n",
       "       52     0.999751\n",
       "       53     0.999776\n",
       "       54     0.999801\n",
       "       58     0.999851\n",
       "       60     0.999876\n",
       "       68     0.999901\n",
       "       95     0.999925\n",
       "       97     0.999950\n",
       "       101    0.999975\n",
       "       293    1.000000\n",
       "B      1      1.802330\n",
       "       2      1.899043\n",
       "       3      1.926837\n",
       "       4      1.953049\n",
       "       5      1.964297\n",
       "       6      1.973060\n",
       "       7      1.978583\n",
       "       8      1.983404\n",
       "       9      1.986442\n",
       "       10     1.988601\n",
       "       11     1.990585\n",
       "       12     1.991539\n",
       "       13     1.992443\n",
       "       14     1.993095\n",
       "       15     1.993824\n",
       "       16     1.994727\n",
       "       17     1.995280\n",
       "       18     1.995707\n",
       "       19     1.996133\n",
       "       20     1.996435\n",
       "       21     1.996736\n",
       "       22     1.997088\n",
       "       23     1.997414\n",
       "       24     1.997590\n",
       "       25     1.997740\n",
       "       26     1.997891\n",
       "       27     1.997991\n",
       "       28     1.998092\n",
       "       29     1.998167\n",
       "       30     1.998318\n",
       "       31     1.998443\n",
       "       32     1.998569\n",
       "       33     1.998619\n",
       "       34     1.998644\n",
       "       35     1.998694\n",
       "       36     1.998795\n",
       "       37     1.998820\n",
       "       38     1.998870\n",
       "       39     1.998920\n",
       "       40     1.998945\n",
       "       41     1.998971\n",
       "       42     1.999021\n",
       "       43     1.999046\n",
       "       44     1.999096\n",
       "       45     1.999171\n",
       "       48     1.999247\n",
       "       49     1.999297\n",
       "       50     1.999322\n",
       "       51     1.999347\n",
       "       52     1.999423\n",
       "       55     1.999448\n",
       "       59     1.999473\n",
       "       62     1.999548\n",
       "       65     1.999573\n",
       "       68     1.999598\n",
       "       69     1.999623\n",
       "       71     1.999648\n",
       "       76     1.999674\n",
       "       77     1.999699\n",
       "       79     1.999724\n",
       "       83     1.999749\n",
       "       95     1.999774\n",
       "       101    1.999799\n",
       "       111    1.999824\n",
       "       123    1.999874\n",
       "       127    1.999900\n",
       "       131    1.999925\n",
       "       227    1.999950\n",
       "       295    1.999975\n",
       "       319    2.000000\n",
       "Name: proportion, dtype: float64"
      ]
     },
     "execution_count": 44,
     "metadata": {},
     "output_type": "execute_result"
    }
   ],
   "source": [
    "pd.set_option('display.max_rows', None)\n",
    "visits.groupby('group')['uri'].value_counts(normalize=True).sort_index().cumsum()"
   ]
  },
  {
   "cell_type": "code",
   "execution_count": 45,
   "id": "7523b45d",
   "metadata": {
    "ExecuteTime": {
     "end_time": "2024-07-24T14:46:59.564524Z",
     "start_time": "2024-07-24T14:46:59.560798Z"
    }
   },
   "outputs": [],
   "source": [
    "pd.reset_option('display.max_rows', None)"
   ]
  },
  {
   "cell_type": "markdown",
   "id": "82ed927c",
   "metadata": {},
   "source": [
    "Более 99.5% юзеров обеих групп посещали страницу менее 20 раз, в логах имеются выбросы, \n",
    "которые могут повлиять на выводы в тесте\n",
    "Рассмотрим два варианта статистических тестов:"
   ]
  },
  {
   "cell_type": "markdown",
   "id": "e2d122ca",
   "metadata": {},
   "source": [
    "1) Непараметрический тест Манна-Уитни"
   ]
  },
  {
   "cell_type": "code",
   "execution_count": 46,
   "id": "577e807e",
   "metadata": {
    "ExecuteTime": {
     "end_time": "2024-07-24T14:47:02.138036Z",
     "start_time": "2024-07-24T14:47:02.063691Z"
    }
   },
   "outputs": [
    {
     "data": {
      "text/plain": [
       "MannwhitneyuResult(statistic=802179996.5, pvalue=0.6441508240510514)"
      ]
     },
     "execution_count": 46,
     "metadata": {},
     "output_type": "execute_result"
    }
   ],
   "source": [
    "grA = visits[visits['group'] == 'A']['uri']\n",
    "grB = visits[visits['group'] == 'B']['uri']\n",
    "stats.mannwhitneyu(grA, grB, alternative='less')"
   ]
  },
  {
   "cell_type": "markdown",
   "id": "f2a5c24d",
   "metadata": {
    "ExecuteTime": {
     "end_time": "2024-07-18T05:48:03.569211Z",
     "start_time": "2024-07-18T05:48:03.535577Z"
    }
   },
   "source": [
    "p-значение: 0.6441508240510514 (что значительно больше типичного уровня значимости, например, 0.05)\n",
    "Вывод\n",
    "Поскольку p-значение значительно больше 0.05, у нас нет оснований отвергнуть нулевую гипотезу \n",
    "Это означает, что мы не обнаружили статистически значимой разницы, указывающей на то, что группа A имеет меньшее число посещений, чем группа B."
   ]
  },
  {
   "cell_type": "markdown",
   "id": "74c15666",
   "metadata": {},
   "source": [
    "2) T-test\n",
    "Предварительно удалим выбросы(более 20 посещений)"
   ]
  },
  {
   "cell_type": "code",
   "execution_count": 47,
   "id": "0225d060",
   "metadata": {
    "ExecuteTime": {
     "end_time": "2024-07-24T14:47:03.781842Z",
     "start_time": "2024-07-24T14:47:03.764706Z"
    }
   },
   "outputs": [
    {
     "data": {
      "text/html": [
       "<div>\n",
       "<style scoped>\n",
       "    .dataframe tbody tr th:only-of-type {\n",
       "        vertical-align: middle;\n",
       "    }\n",
       "\n",
       "    .dataframe tbody tr th {\n",
       "        vertical-align: top;\n",
       "    }\n",
       "\n",
       "    .dataframe thead th {\n",
       "        text-align: right;\n",
       "    }\n",
       "</style>\n",
       "<table border=\"1\" class=\"dataframe\">\n",
       "  <thead>\n",
       "    <tr style=\"text-align: right;\">\n",
       "      <th></th>\n",
       "      <th>group</th>\n",
       "      <th>uuid</th>\n",
       "      <th>uri</th>\n",
       "    </tr>\n",
       "  </thead>\n",
       "  <tbody>\n",
       "    <tr>\n",
       "      <th>0</th>\n",
       "      <td>A</td>\n",
       "      <td>0006751C7CBBB65C40FBB7C19B42ABFB4</td>\n",
       "      <td>1</td>\n",
       "    </tr>\n",
       "    <tr>\n",
       "      <th>1</th>\n",
       "      <td>A</td>\n",
       "      <td>00082754B6C25321F1AF03A8CD3811222</td>\n",
       "      <td>1</td>\n",
       "    </tr>\n",
       "    <tr>\n",
       "      <th>2</th>\n",
       "      <td>A</td>\n",
       "      <td>0008CE7100C235E79E1E9B15B9B706AA2</td>\n",
       "      <td>1</td>\n",
       "    </tr>\n",
       "    <tr>\n",
       "      <th>3</th>\n",
       "      <td>A</td>\n",
       "      <td>00096FDD7B9DC65A942DD1D28D2D40896</td>\n",
       "      <td>1</td>\n",
       "    </tr>\n",
       "    <tr>\n",
       "      <th>4</th>\n",
       "      <td>A</td>\n",
       "      <td>000C64B305937CEDC4CFC5FB02A74E552</td>\n",
       "      <td>1</td>\n",
       "    </tr>\n",
       "    <tr>\n",
       "      <th>...</th>\n",
       "      <td>...</td>\n",
       "      <td>...</td>\n",
       "      <td>...</td>\n",
       "    </tr>\n",
       "    <tr>\n",
       "      <th>80063</th>\n",
       "      <td>B</td>\n",
       "      <td>FFF95CA3F522049BEA99B3980C16D4DF7</td>\n",
       "      <td>1</td>\n",
       "    </tr>\n",
       "    <tr>\n",
       "      <th>80064</th>\n",
       "      <td>B</td>\n",
       "      <td>FFF96C36444C309EC563DC972496D4727</td>\n",
       "      <td>1</td>\n",
       "    </tr>\n",
       "    <tr>\n",
       "      <th>80065</th>\n",
       "      <td>B</td>\n",
       "      <td>FFFDEFC6637D4A8599D893EE835378459</td>\n",
       "      <td>1</td>\n",
       "    </tr>\n",
       "    <tr>\n",
       "      <th>80066</th>\n",
       "      <td>B</td>\n",
       "      <td>FFFF38677E524833D7AE9E02C89F0FEF1</td>\n",
       "      <td>1</td>\n",
       "    </tr>\n",
       "    <tr>\n",
       "      <th>80067</th>\n",
       "      <td>B</td>\n",
       "      <td>FFFFFF1C35450EEAC39D99FE5C6C77D81</td>\n",
       "      <td>1</td>\n",
       "    </tr>\n",
       "  </tbody>\n",
       "</table>\n",
       "<p>79814 rows × 3 columns</p>\n",
       "</div>"
      ],
      "text/plain": [
       "      group                               uuid  uri\n",
       "0         A  0006751C7CBBB65C40FBB7C19B42ABFB4    1\n",
       "1         A  00082754B6C25321F1AF03A8CD3811222    1\n",
       "2         A  0008CE7100C235E79E1E9B15B9B706AA2    1\n",
       "3         A  00096FDD7B9DC65A942DD1D28D2D40896    1\n",
       "4         A  000C64B305937CEDC4CFC5FB02A74E552    1\n",
       "...     ...                                ...  ...\n",
       "80063     B  FFF95CA3F522049BEA99B3980C16D4DF7    1\n",
       "80064     B  FFF96C36444C309EC563DC972496D4727    1\n",
       "80065     B  FFFDEFC6637D4A8599D893EE835378459    1\n",
       "80066     B  FFFF38677E524833D7AE9E02C89F0FEF1    1\n",
       "80067     B  FFFFFF1C35450EEAC39D99FE5C6C77D81    1\n",
       "\n",
       "[79814 rows x 3 columns]"
      ]
     },
     "execution_count": 47,
     "metadata": {},
     "output_type": "execute_result"
    }
   ],
   "source": [
    "visits_20 = visits[visits.uri <= 20]\n",
    "visits_20"
   ]
  },
  {
   "cell_type": "code",
   "execution_count": 71,
   "id": "65e0e804",
   "metadata": {
    "ExecuteTime": {
     "end_time": "2024-07-24T15:19:28.055372Z",
     "start_time": "2024-07-24T15:19:28.036916Z"
    },
    "scrolled": true
   },
   "outputs": [
    {
     "data": {
      "text/plain": [
       "group\n",
       "A    40127\n",
       "B    39687\n",
       "Name: uuid, dtype: int64"
      ]
     },
     "execution_count": 71,
     "metadata": {},
     "output_type": "execute_result"
    }
   ],
   "source": [
    "# число юзеров в выборке\n",
    "visits_20.groupby('group')['uuid'].count()"
   ]
  },
  {
   "cell_type": "code",
   "execution_count": 72,
   "id": "35dee782",
   "metadata": {
    "ExecuteTime": {
     "end_time": "2024-07-24T15:19:28.195882Z",
     "start_time": "2024-07-24T15:19:28.174744Z"
    }
   },
   "outputs": [
    {
     "data": {
      "text/html": [
       "<div>\n",
       "<style scoped>\n",
       "    .dataframe tbody tr th:only-of-type {\n",
       "        vertical-align: middle;\n",
       "    }\n",
       "\n",
       "    .dataframe tbody tr th {\n",
       "        vertical-align: top;\n",
       "    }\n",
       "\n",
       "    .dataframe thead th {\n",
       "        text-align: right;\n",
       "    }\n",
       "</style>\n",
       "<table border=\"1\" class=\"dataframe\">\n",
       "  <thead>\n",
       "    <tr style=\"text-align: right;\">\n",
       "      <th></th>\n",
       "      <th>count</th>\n",
       "      <th>mean</th>\n",
       "      <th>std</th>\n",
       "      <th>min</th>\n",
       "      <th>25%</th>\n",
       "      <th>50%</th>\n",
       "      <th>75%</th>\n",
       "      <th>max</th>\n",
       "    </tr>\n",
       "    <tr>\n",
       "      <th>group</th>\n",
       "      <th></th>\n",
       "      <th></th>\n",
       "      <th></th>\n",
       "      <th></th>\n",
       "      <th></th>\n",
       "      <th></th>\n",
       "      <th></th>\n",
       "      <th></th>\n",
       "    </tr>\n",
       "  </thead>\n",
       "  <tbody>\n",
       "    <tr>\n",
       "      <th>A</th>\n",
       "      <td>40127.0</td>\n",
       "      <td>1.545942</td>\n",
       "      <td>1.707598</td>\n",
       "      <td>1.0</td>\n",
       "      <td>1.0</td>\n",
       "      <td>1.0</td>\n",
       "      <td>1.0</td>\n",
       "      <td>20.0</td>\n",
       "    </tr>\n",
       "    <tr>\n",
       "      <th>B</th>\n",
       "      <td>39687.0</td>\n",
       "      <td>1.535188</td>\n",
       "      <td>1.668523</td>\n",
       "      <td>1.0</td>\n",
       "      <td>1.0</td>\n",
       "      <td>1.0</td>\n",
       "      <td>1.0</td>\n",
       "      <td>20.0</td>\n",
       "    </tr>\n",
       "  </tbody>\n",
       "</table>\n",
       "</div>"
      ],
      "text/plain": [
       "         count      mean       std  min  25%  50%  75%   max\n",
       "group                                                       \n",
       "A      40127.0  1.545942  1.707598  1.0  1.0  1.0  1.0  20.0\n",
       "B      39687.0  1.535188  1.668523  1.0  1.0  1.0  1.0  20.0"
      ]
     },
     "execution_count": 72,
     "metadata": {},
     "output_type": "execute_result"
    }
   ],
   "source": [
    "visits_20.groupby('group')['uri'].describe()"
   ]
  },
  {
   "cell_type": "code",
   "execution_count": 50,
   "id": "273dd495",
   "metadata": {
    "ExecuteTime": {
     "end_time": "2024-07-24T14:47:04.698022Z",
     "start_time": "2024-07-24T14:47:04.693101Z"
    }
   },
   "outputs": [],
   "source": [
    "mean_A = 1.545942\n",
    "mean_B = 1.535188\n",
    "std_A = 1.707598\n",
    "std_B = 1.668523\n",
    "n_A = 40127\n",
    "n_B = 39687\n",
    "var_A = std_A ** 2\n",
    "var_B = std_B ** 2"
   ]
  },
  {
   "cell_type": "code",
   "execution_count": 51,
   "id": "49e0b56b",
   "metadata": {
    "ExecuteTime": {
     "end_time": "2024-07-24T14:47:05.012796Z",
     "start_time": "2024-07-24T14:47:04.996056Z"
    }
   },
   "outputs": [
    {
     "name": "stdout",
     "output_type": "stream",
     "text": [
      "t-statistic: 0.8998779073316777, degrees of freedom: 79800.27502383929, p-value: 0.36818794383272524\n"
     ]
    }
   ],
   "source": [
    "t_stat = (mean_A - mean_B) / ((var_A / n_A + var_B / n_B) ** 0.5)\n",
    "n = ((var_A / n_A + var_B / n_B) ** 2) / ((var_A ** 2 / (n_A ** 2 * (n_A - 1))) + (var_B ** 2 / (n_B ** 2 * (n_B - 1))))\n",
    "p_value = 2 * stats.t.sf(abs(t_stat), n)\n",
    "print(f\"t-statistic: {t_stat}, degrees of freedom: {n}, p-value: {p_value}\")"
   ]
  },
  {
   "cell_type": "code",
   "execution_count": 67,
   "id": "8a9129fd",
   "metadata": {
    "ExecuteTime": {
     "end_time": "2024-07-24T15:02:10.429982Z",
     "start_time": "2024-07-24T15:02:10.406155Z"
    }
   },
   "outputs": [
    {
     "name": "stdout",
     "output_type": "stream",
     "text": [
      "t-статистика: 0.899860303815776, одностороннее p-значение: 0.8159013435247351\n"
     ]
    }
   ],
   "source": [
    "grA = visits_20[visits_20['group'] == 'A']['uri']\n",
    "grB = visits_20[visits_20['group'] == 'B']['uri']\n",
    "t_stat, p_value = stats.ttest_ind(grA,grB,equal_var=False)\n",
    "if t_stat < 0:\n",
    "    one_sided_p_value = p_value / 2\n",
    "else:\n",
    "    one_sided_p_value = 1 - p_value / 2\n",
    "\n",
    "print(f\"t-статистика: {t_stat}, одностороннее p-значение: {one_sided_p_value}\")"
   ]
  },
  {
   "cell_type": "code",
   "execution_count": 69,
   "id": "cd9d33f4",
   "metadata": {
    "ExecuteTime": {
     "end_time": "2024-07-24T15:02:17.633194Z",
     "start_time": "2024-07-24T15:02:17.491845Z"
    }
   },
   "outputs": [
    {
     "data": {
      "image/png": "[encoded data removed]",
      "text/plain": [
       "<Figure size 500x600 with 1 Axes>"
      ]
     },
     "metadata": {},
     "output_type": "display_data"
    }
   ],
   "source": [
    "confidence_level = 0.95\n",
    "grA_mean = np.mean(grA)\n",
    "grB_mean = np.mean(grB)\n",
    "grA_sem = stats.sem(grA)\n",
    "grB_sem = stats.sem(grB)\n",
    "\n",
    "grA_ci = stats.t.interval(confidence_level, len(grA)-1, loc=grA_mean, scale=grA_sem)\n",
    "grB_ci = stats.t.interval(confidence_level, len(grB)-1, loc=grB_mean, scale=grB_sem)\n",
    "\n",
    "# Построение графиков доверительных интервалов\n",
    "plt.figure(figsize=(5, 6))\n",
    "\n",
    "# Группа A\n",
    "plt.errorbar(x=0, y=grA_mean, yerr=[[grA_mean - grA_ci[0]], [grA_ci[1] - grA_mean]], fmt='o', label='Group A',elinewidth=5)\n",
    "\n",
    "# Группа B\n",
    "plt.errorbar(x=1, y=grB_mean, yerr=[[grB_mean - grB_ci[0]], [grB_ci[1] - grB_mean]], fmt='o', label='Group B',elinewidth=5)\n",
    "\n",
    "# Настройка графика\n",
    "plt.xticks([0, 1], ['Group A', 'Group B'])\n",
    "plt.title('95% Доверительные интервалы для групп A и B')\n",
    "plt.xlabel('Группа')\n",
    "plt.ylabel('Среднее количество посещений (URI)')\n",
    "plt.legend()\n",
    "plt.grid(True)\n",
    "plt.show()"
   ]
  },
  {
   "cell_type": "code",
   "execution_count": 60,
   "id": "0657dfa9",
   "metadata": {
    "ExecuteTime": {
     "end_time": "2024-07-24T14:53:35.510255Z",
     "start_time": "2024-07-24T14:53:35.483837Z"
    }
   },
   "outputs": [
    {
     "name": "stdout",
     "output_type": "stream",
     "text": [
      "t-статистика: -1.8231848443841439, одностороннее p-значение: 0.034139734172496695\n"
     ]
    }
   ],
   "source": [
    "grA = visits[visits['group'] == 'A']['uri']\n",
    "grB = visits[visits['group'] == 'B']['uri']\n",
    "t_stat, p_value = stats.ttest_ind(grA,grB,equal_var=False)\n",
    "if t_stat < 0:\n",
    "    one_sided_p_value = p_value / 2\n",
    "else:\n",
    "    one_sided_p_value = 1 - p_value / 2\n",
    "\n",
    "print(f\"t-статистика: {t_stat}, одностороннее p-значение: {one_sided_p_value}\")"
   ]
  },
  {
   "cell_type": "code",
   "execution_count": 66,
   "id": "1e07de0b",
   "metadata": {
    "ExecuteTime": {
     "end_time": "2024-07-24T15:01:59.510094Z",
     "start_time": "2024-07-24T15:01:59.365716Z"
    }
   },
   "outputs": [
    {
     "data": {
      "image/png": "[encoded data removed]",
      "text/plain": [
       "<Figure size 500x600 with 1 Axes>"
      ]
     },
     "metadata": {},
     "output_type": "display_data"
    }
   ],
   "source": [
    "confidence_level = 0.95\n",
    "grA_mean = np.mean(grA)\n",
    "grB_mean = np.mean(grB)\n",
    "grA_sem = stats.sem(grA)\n",
    "grB_sem = stats.sem(grB)\n",
    "\n",
    "grA_ci = stats.t.interval(confidence_level, len(grA)-1, loc=grA_mean, scale=grA_sem)\n",
    "grB_ci = stats.t.interval(confidence_level, len(grB)-1, loc=grB_mean, scale=grB_sem)\n",
    "\n",
    "# Построение графиков доверительных интервалов\n",
    "plt.figure(figsize=(5, 6))\n",
    "\n",
    "# Группа A\n",
    "plt.errorbar(x=0, y=grA_mean, yerr=[[grA_mean - grA_ci[0]], [grA_ci[1] - grA_mean]], fmt='o', label='Group A',elinewidth=5)\n",
    "\n",
    "# Группа B\n",
    "plt.errorbar(x=1, y=grB_mean, yerr=[[grB_mean - grB_ci[0]], [grB_ci[1] - grB_mean]], fmt='o', label='Group B',elinewidth=5)\n",
    "\n",
    "# Настройка графика\n",
    "plt.xticks([0, 1], ['Group A', 'Group B'])\n",
    "plt.title('95% Доверительные интервалы для групп A и B')\n",
    "plt.xlabel('Группа')\n",
    "plt.ylabel('Среднее количество посещений (URI)')\n",
    "plt.legend()\n",
    "plt.grid(True)\n",
    "plt.show()"
   ]
  },
  {
   "cell_type": "markdown",
   "id": "127b2e70",
   "metadata": {},
   "source": [
    "Интерпретация результатов\n",
    "\n",
    "1. **Вся выборка**:\n",
    "   - **t-статистика**: -1.8231848443841439\n",
    "   - **Одностороннее p-значение**: 0.034139734172496695\n",
    "\n",
    "2. **Выборка, ограниченная до 99.5% (не более 20 посещений сайта)**:\n",
    "   - **t-статистика**: 0.899860303815776\n",
    "   - **Одностороннее p-значение**: 0.8159013435247351\n",
    "   \n",
    "Выводы\n",
    "\n",
    "1. **Вся выборка**:\n",
    "   - **t-статистика** отрицательная, что соответствует гипотезе \\( mu_A < mu_B ).\n",
    "   - **Одностороннее p-значение**: 0.0341, что меньше типичного уровня значимости 0.05. Это означает, что мы можем отвергнуть нулевую гипотезу \\( H_0: \\mu_A \\geq \\mu_B \\) в пользу альтернативной гипотезы \\( H_1: \\mu_A < \\mu_B \\) с уровнем значимости 0.05. Иными словами, есть статистически значимое доказательство того, что посещаемость в группе A меньше, чем в группе B.\n",
    "\n",
    "2. **Ограниченная выборка**:\n",
    "   - **t-статистика** положительная, что не соответствует гипотезе \\( mu_A < mu_B ).\n",
    "   - **Одностороннее p-значение**: 0.8159, что значительно больше 0.05. Это означает, что у нас нет оснований отвергнуть нулевую гипотезу \\( H_0: \\mu_A \\geq \\mu_B \\). Иными словами, нет статистически значимого доказательства того, что посещаемость в группе A меньше, чем в группе B.\n",
    "\n",
    "Возможные шаги\n",
    "\n",
    "1. **Анализ выбросов**:\n",
    "   - Выборка, ограниченная до 99.5%, показала совершенно другой результат по сравнению с полной выборкой. Это указывает на то, что выбросы могут существенно влиять на результаты анализа. \n"
   ]
  },
  {
   "cell_type": "code",
   "execution_count": 73,
   "id": "e4c7d278",
   "metadata": {
    "ExecuteTime": {
     "end_time": "2024-07-24T15:19:38.104253Z",
     "start_time": "2024-07-24T15:19:38.094000Z"
    }
   },
   "outputs": [
    {
     "data": {
      "text/plain": [
       "count    254.000000\n",
       "mean      39.468504\n",
       "std       37.030019\n",
       "min       21.000000\n",
       "25%       23.000000\n",
       "50%       28.000000\n",
       "75%       41.000000\n",
       "max      319.000000\n",
       "Name: uri, dtype: float64"
      ]
     },
     "execution_count": 73,
     "metadata": {},
     "output_type": "execute_result"
    }
   ],
   "source": [
    "visits_big = visits[visits.uri>20]\n",
    "visits_big.uri.describe()"
   ]
  },
  {
   "cell_type": "code",
   "execution_count": 25,
   "id": "04b7b926",
   "metadata": {
    "ExecuteTime": {
     "end_time": "2024-07-20T10:01:15.409021Z",
     "start_time": "2024-07-20T10:01:14.320356Z"
    },
    "scrolled": true
   },
   "outputs": [
    {
     "data": {
      "text/html": [
       "<div>\n",
       "<style scoped>\n",
       "    .dataframe tbody tr th:only-of-type {\n",
       "        vertical-align: middle;\n",
       "    }\n",
       "\n",
       "    .dataframe tbody tr th {\n",
       "        vertical-align: top;\n",
       "    }\n",
       "\n",
       "    .dataframe thead tr th {\n",
       "        text-align: left;\n",
       "    }\n",
       "</style>\n",
       "<table border=\"1\" class=\"dataframe\">\n",
       "  <thead>\n",
       "    <tr>\n",
       "      <th></th>\n",
       "      <th>uuid</th>\n",
       "      <th colspan=\"4\" halign=\"left\">uri</th>\n",
       "      <th colspan=\"4\" halign=\"left\">http_referer</th>\n",
       "    </tr>\n",
       "    <tr>\n",
       "      <th></th>\n",
       "      <th></th>\n",
       "      <th>count</th>\n",
       "      <th>unique</th>\n",
       "      <th>top</th>\n",
       "      <th>freq</th>\n",
       "      <th>count</th>\n",
       "      <th>unique</th>\n",
       "      <th>top</th>\n",
       "      <th>freq</th>\n",
       "    </tr>\n",
       "  </thead>\n",
       "  <tbody>\n",
       "    <tr>\n",
       "      <th>0</th>\n",
       "      <td>003356E7319BD7C3A0E1334AC06A31C63</td>\n",
       "      <td>76</td>\n",
       "      <td>2</td>\n",
       "      <td>/reviews/my/</td>\n",
       "      <td>73</td>\n",
       "      <td>58</td>\n",
       "      <td>2</td>\n",
       "      <td>https://www.drom.ru/reviews/</td>\n",
       "      <td>55</td>\n",
       "    </tr>\n",
       "    <tr>\n",
       "      <th>1</th>\n",
       "      <td>003819FC16C189D204E39ADFF6A3091E6</td>\n",
       "      <td>28</td>\n",
       "      <td>5</td>\n",
       "      <td>/reviews/</td>\n",
       "      <td>13</td>\n",
       "      <td>28</td>\n",
       "      <td>3</td>\n",
       "      <td>https://www.drom.ru/reviews/</td>\n",
       "      <td>15</td>\n",
       "    </tr>\n",
       "    <tr>\n",
       "      <th>2</th>\n",
       "      <td>025126BFA9EED2A8F363413ADCA642C09</td>\n",
       "      <td>36</td>\n",
       "      <td>2</td>\n",
       "      <td>/reviews/my/</td>\n",
       "      <td>29</td>\n",
       "      <td>36</td>\n",
       "      <td>4</td>\n",
       "      <td>https://www.drom.ru/reviews/</td>\n",
       "      <td>18</td>\n",
       "    </tr>\n",
       "    <tr>\n",
       "      <th>3</th>\n",
       "      <td>02C72057C59BB398848705F6874B43392</td>\n",
       "      <td>27</td>\n",
       "      <td>2</td>\n",
       "      <td>/reviews/</td>\n",
       "      <td>18</td>\n",
       "      <td>15</td>\n",
       "      <td>10</td>\n",
       "      <td>https://news.drom.ru/</td>\n",
       "      <td>4</td>\n",
       "    </tr>\n",
       "    <tr>\n",
       "      <th>4</th>\n",
       "      <td>03F8F954D93C93A3E4D637D523F945115</td>\n",
       "      <td>32</td>\n",
       "      <td>8</td>\n",
       "      <td>/reviews/</td>\n",
       "      <td>23</td>\n",
       "      <td>32</td>\n",
       "      <td>4</td>\n",
       "      <td>https://www.google.com/</td>\n",
       "      <td>22</td>\n",
       "    </tr>\n",
       "    <tr>\n",
       "      <th>...</th>\n",
       "      <td>...</td>\n",
       "      <td>...</td>\n",
       "      <td>...</td>\n",
       "      <td>...</td>\n",
       "      <td>...</td>\n",
       "      <td>...</td>\n",
       "      <td>...</td>\n",
       "      <td>...</td>\n",
       "      <td>...</td>\n",
       "    </tr>\n",
       "    <tr>\n",
       "      <th>249</th>\n",
       "      <td>FD505A661BC0888C5C8BCE7149897D4D4</td>\n",
       "      <td>45</td>\n",
       "      <td>5</td>\n",
       "      <td>/reviews/</td>\n",
       "      <td>40</td>\n",
       "      <td>45</td>\n",
       "      <td>4</td>\n",
       "      <td>https://www.drom.ru/pdd/pdd/sign_8_6/</td>\n",
       "      <td>36</td>\n",
       "    </tr>\n",
       "    <tr>\n",
       "      <th>250</th>\n",
       "      <td>FD755A236F9D19D9B369FADBE48562A71</td>\n",
       "      <td>48</td>\n",
       "      <td>14</td>\n",
       "      <td>/reviews/</td>\n",
       "      <td>19</td>\n",
       "      <td>45</td>\n",
       "      <td>5</td>\n",
       "      <td>https://www.drom.ru/reviews/</td>\n",
       "      <td>25</td>\n",
       "    </tr>\n",
       "    <tr>\n",
       "      <th>251</th>\n",
       "      <td>FDDE34D59FBF99C31CFA62BFAA2BF6300</td>\n",
       "      <td>49</td>\n",
       "      <td>1</td>\n",
       "      <td>/reviews/</td>\n",
       "      <td>49</td>\n",
       "      <td>0</td>\n",
       "      <td>0</td>\n",
       "      <td>NaN</td>\n",
       "      <td>NaN</td>\n",
       "    </tr>\n",
       "    <tr>\n",
       "      <th>252</th>\n",
       "      <td>FF0381432343ABFBBC5C322AB5E733B49</td>\n",
       "      <td>295</td>\n",
       "      <td>1</td>\n",
       "      <td>/reviews/</td>\n",
       "      <td>295</td>\n",
       "      <td>295</td>\n",
       "      <td>15</td>\n",
       "      <td>https://www.drom.ru/catalog/</td>\n",
       "      <td>279</td>\n",
       "    </tr>\n",
       "    <tr>\n",
       "      <th>253</th>\n",
       "      <td>FFC59CF02265B4F7E3AA4BC8C04821F24</td>\n",
       "      <td>32</td>\n",
       "      <td>6</td>\n",
       "      <td>/reviews/</td>\n",
       "      <td>22</td>\n",
       "      <td>32</td>\n",
       "      <td>2</td>\n",
       "      <td>https://www.drom.ru/</td>\n",
       "      <td>22</td>\n",
       "    </tr>\n",
       "  </tbody>\n",
       "</table>\n",
       "<p>254 rows × 9 columns</p>\n",
       "</div>"
      ],
      "text/plain": [
       "                                  uuid   uri                            \\\n",
       "                                       count unique           top freq   \n",
       "0    003356E7319BD7C3A0E1334AC06A31C63    76      2  /reviews/my/   73   \n",
       "1    003819FC16C189D204E39ADFF6A3091E6    28      5     /reviews/   13   \n",
       "2    025126BFA9EED2A8F363413ADCA642C09    36      2  /reviews/my/   29   \n",
       "3    02C72057C59BB398848705F6874B43392    27      2     /reviews/   18   \n",
       "4    03F8F954D93C93A3E4D637D523F945115    32      8     /reviews/   23   \n",
       "..                                 ...   ...    ...           ...  ...   \n",
       "249  FD505A661BC0888C5C8BCE7149897D4D4    45      5     /reviews/   40   \n",
       "250  FD755A236F9D19D9B369FADBE48562A71    48     14     /reviews/   19   \n",
       "251  FDDE34D59FBF99C31CFA62BFAA2BF6300    49      1     /reviews/   49   \n",
       "252  FF0381432343ABFBBC5C322AB5E733B49   295      1     /reviews/  295   \n",
       "253  FFC59CF02265B4F7E3AA4BC8C04821F24    32      6     /reviews/   22   \n",
       "\n",
       "    http_referer                                                     \n",
       "           count unique                                    top freq  \n",
       "0             58      2           https://www.drom.ru/reviews/   55  \n",
       "1             28      3           https://www.drom.ru/reviews/   15  \n",
       "2             36      4           https://www.drom.ru/reviews/   18  \n",
       "3             15     10                  https://news.drom.ru/    4  \n",
       "4             32      4                https://www.google.com/   22  \n",
       "..           ...    ...                                    ...  ...  \n",
       "249           45      4  https://www.drom.ru/pdd/pdd/sign_8_6/   36  \n",
       "250           45      5           https://www.drom.ru/reviews/   25  \n",
       "251            0      0                                    NaN  NaN  \n",
       "252          295     15           https://www.drom.ru/catalog/  279  \n",
       "253           32      2                   https://www.drom.ru/   22  \n",
       "\n",
       "[254 rows x 9 columns]"
      ]
     },
     "execution_count": 25,
     "metadata": {},
     "output_type": "execute_result"
    }
   ],
   "source": [
    "big_df = df[df.uuid.isin(visits_big.uuid)].groupby('uuid')[['uri','http_referer']].describe().reset_index()\n",
    "big_df"
   ]
  },
  {
   "cell_type": "code",
   "execution_count": 26,
   "id": "5ceca488",
   "metadata": {
    "ExecuteTime": {
     "end_time": "2024-07-20T10:01:16.426333Z",
     "start_time": "2024-07-20T10:01:15.411995Z"
    },
    "scrolled": false
   },
   "outputs": [
    {
     "data": {
      "image/png": "[encoded data removed]",
      "text/plain": [
       "<Figure size 1500x1000 with 2 Axes>"
      ]
     },
     "metadata": {},
     "output_type": "display_data"
    }
   ],
   "source": [
    "fig,axs = plt.subplots(1,2, figsize = (15,10))\n",
    "axs[0].hist(big_df['uri','freq']/big_df['uri','count'],bins=25)\n",
    "axs[0].set_title('Частота посещений URL')\n",
    "axs[0].set_xlabel('Частота')\n",
    "axs[0].set_ylabel('Количество пользователей')\n",
    "axs[1].hist(big_df['http_referer','freq']/big_df['http_referer','count'],bins=25)\n",
    "axs[1].set_title('Частота HTTP Referer')\n",
    "axs[1].set_xlabel('Частота')\n",
    "axs[1].set_ylabel('Количество пользователей');"
   ]
  },
  {
   "cell_type": "code",
   "execution_count": 27,
   "id": "8ff97bcb",
   "metadata": {
    "ExecuteTime": {
     "end_time": "2024-07-20T10:01:16.956674Z",
     "start_time": "2024-07-20T10:01:16.429735Z"
    }
   },
   "outputs": [
    {
     "data": {
      "image/png": "[encoded data removed]",
      "text/plain": [
       "<Figure size 640x480 with 1 Axes>"
      ]
     },
     "metadata": {},
     "output_type": "display_data"
    }
   ],
   "source": [
    "plt.hist(big_df['uri','freq']/big_df['uri','count'],bins=25,alpha=0.4)\n",
    "plt.hist(big_df['http_referer','freq']/big_df['http_referer','count'],bins=25,alpha=0.3)\n",
    "plt.title('Частота HTTP Referer/Url')\n",
    "plt.xlabel('Частота')\n",
    "plt.ylabel('Количество пользователей')\n",
    "plt.legend(['URL','HTTP Referer']);"
   ]
  },
  {
   "cell_type": "code",
   "execution_count": 28,
   "id": "04dbdca4",
   "metadata": {
    "ExecuteTime": {
     "end_time": "2024-07-20T10:01:16.977239Z",
     "start_time": "2024-07-20T10:01:16.958566Z"
    },
    "scrolled": true
   },
   "outputs": [
    {
     "data": {
      "text/plain": [
       "(http_referer, top)\n",
       "https://www.drom.ru/              29\n",
       "https://yandex.ru/                 3\n",
       "https://www.drom.ru/reviews/       2\n",
       "https://newadmin.drom.ru/          1\n",
       "https://auto.drom.ru/region25/     1\n",
       "Name: count, dtype: int64"
      ]
     },
     "execution_count": 28,
     "metadata": {},
     "output_type": "execute_result"
    }
   ],
   "source": [
    "big_df[(big_df['uri','unique']==1)&(big_df['http_referer','unique']<=1)]['http_referer','top'].value_counts()"
   ]
  },
  {
   "cell_type": "code",
   "execution_count": 29,
   "id": "1f73aecd",
   "metadata": {
    "ExecuteTime": {
     "end_time": "2024-07-20T10:01:17.003698Z",
     "start_time": "2024-07-20T10:01:16.980708Z"
    }
   },
   "outputs": [
    {
     "data": {
      "text/plain": [
       "(uri, top)\n",
       "/reviews/           42\n",
       "/reviews/suzuki/     1\n",
       "Name: count, dtype: int64"
      ]
     },
     "execution_count": 29,
     "metadata": {},
     "output_type": "execute_result"
    }
   ],
   "source": [
    "big_df[(big_df['uri','unique']==1)&(big_df['http_referer','unique']<=1)]['uri','top'].value_counts()"
   ]
  },
  {
   "cell_type": "code",
   "execution_count": 114,
   "id": "be6638ea",
   "metadata": {
    "ExecuteTime": {
     "end_time": "2024-07-24T15:34:25.146255Z",
     "start_time": "2024-07-24T15:34:24.921251Z"
    }
   },
   "outputs": [
    {
     "data": {
      "text/plain": [
       "[Text(0, 0, '2024-03-11'),\n",
       " Text(1, 0, '2024-03-12'),\n",
       " Text(2, 0, '2024-03-13'),\n",
       " Text(3, 0, '2024-03-14'),\n",
       " Text(4, 0, '2024-03-15'),\n",
       " Text(5, 0, '2024-03-16'),\n",
       " Text(6, 0, '2024-03-17')]"
      ]
     },
     "execution_count": 114,
     "metadata": {},
     "output_type": "execute_result"
    },
    {
     "data": {
      "image/png": "[encoded data removed]",
      "text/plain": [
       "<Figure size 640x480 with 1 Axes>"
      ]
     },
     "metadata": {},
     "output_type": "display_data"
    }
   ],
   "source": [
    "gg=sns.lineplot(data=df.groupby(['group','dt'])['uri'].count().reset_index(),x='dt',y='uri',hue='group')\n",
    "plt.title('Посещаемость сайта по дням')\n",
    "plt.xlabel(\"День эксперимента\")\n",
    "plt.ylabel('Число посещений')\n",
    "gg.set_xticklabels(gg.get_xticklabels(),rotation=45)"
   ]
  },
  {
   "cell_type": "markdown",
   "id": "94bf69be",
   "metadata": {},
   "source": [
    "После изучения выбросов могу предположить, что это не боты и стоит опираться на результаты теста по общей выборке\n",
    "число посещений группы Б увеличилось"
   ]
  },
  {
   "cell_type": "markdown",
   "id": "f0a44a9a",
   "metadata": {},
   "source": [
    "## Ретеншен"
   ]
  },
  {
   "cell_type": "code",
   "execution_count": 116,
   "id": "381dad01",
   "metadata": {
    "ExecuteTime": {
     "end_time": "2024-07-24T15:41:20.205943Z",
     "start_time": "2024-07-24T15:41:14.528234Z"
    },
    "scrolled": true
   },
   "outputs": [
    {
     "data": {
      "text/html": [
       "<div>\n",
       "<style scoped>\n",
       "    .dataframe tbody tr th:only-of-type {\n",
       "        vertical-align: middle;\n",
       "    }\n",
       "\n",
       "    .dataframe tbody tr th {\n",
       "        vertical-align: top;\n",
       "    }\n",
       "\n",
       "    .dataframe thead th {\n",
       "        text-align: right;\n",
       "    }\n",
       "</style>\n",
       "<table border=\"1\" class=\"dataframe\">\n",
       "  <thead>\n",
       "    <tr style=\"text-align: right;\">\n",
       "      <th></th>\n",
       "      <th>uuid</th>\n",
       "      <th>dt</th>\n",
       "    </tr>\n",
       "  </thead>\n",
       "  <tbody>\n",
       "    <tr>\n",
       "      <th>0</th>\n",
       "      <td>00006E7DDF02C18FBE3A24B17AAC193B1</td>\n",
       "      <td>2024-03-13</td>\n",
       "    </tr>\n",
       "    <tr>\n",
       "      <th>1</th>\n",
       "      <td>0001E7038542ECB72EE4CD8E82538D167</td>\n",
       "      <td>2024-03-16</td>\n",
       "    </tr>\n",
       "    <tr>\n",
       "      <th>2</th>\n",
       "      <td>0003BDB128A710D0A86730A4D329C78B7</td>\n",
       "      <td>2024-03-14</td>\n",
       "    </tr>\n",
       "    <tr>\n",
       "      <th>3</th>\n",
       "      <td>0006751C7CBBB65C40FBB7C19B42ABFB4</td>\n",
       "      <td>2024-03-13</td>\n",
       "    </tr>\n",
       "    <tr>\n",
       "      <th>4</th>\n",
       "      <td>00067C459C048CF474115DD5BE5CF1255</td>\n",
       "      <td>2024-03-11</td>\n",
       "    </tr>\n",
       "  </tbody>\n",
       "</table>\n",
       "</div>"
      ],
      "text/plain": [
       "                                uuid          dt\n",
       "0  00006E7DDF02C18FBE3A24B17AAC193B1  2024-03-13\n",
       "1  0001E7038542ECB72EE4CD8E82538D167  2024-03-16\n",
       "2  0003BDB128A710D0A86730A4D329C78B7  2024-03-14\n",
       "3  0006751C7CBBB65C40FBB7C19B42ABFB4  2024-03-13\n",
       "4  00067C459C048CF474115DD5BE5CF1255  2024-03-11"
      ]
     },
     "execution_count": 116,
     "metadata": {},
     "output_type": "execute_result"
    }
   ],
   "source": [
    "first_enter = df.groupby('uuid')['dt'].min().reset_index()\n",
    "first_enter.head()"
   ]
  },
  {
   "cell_type": "code",
   "execution_count": 117,
   "id": "2edbf41a",
   "metadata": {
    "ExecuteTime": {
     "end_time": "2024-07-24T15:41:20.298621Z",
     "start_time": "2024-07-24T15:41:20.208877Z"
    }
   },
   "outputs": [
    {
     "data": {
      "text/html": [
       "<div>\n",
       "<style scoped>\n",
       "    .dataframe tbody tr th:only-of-type {\n",
       "        vertical-align: middle;\n",
       "    }\n",
       "\n",
       "    .dataframe tbody tr th {\n",
       "        vertical-align: top;\n",
       "    }\n",
       "\n",
       "    .dataframe thead th {\n",
       "        text-align: right;\n",
       "    }\n",
       "</style>\n",
       "<table border=\"1\" class=\"dataframe\">\n",
       "  <thead>\n",
       "    <tr style=\"text-align: right;\">\n",
       "      <th></th>\n",
       "      <th>dt</th>\n",
       "      <th>tme</th>\n",
       "      <th>host</th>\n",
       "      <th>uri</th>\n",
       "      <th>uuid</th>\n",
       "      <th>http_referer</th>\n",
       "      <th>group</th>\n",
       "      <th>first_enter_dt</th>\n",
       "    </tr>\n",
       "  </thead>\n",
       "  <tbody>\n",
       "    <tr>\n",
       "      <th>0</th>\n",
       "      <td>2024-03-11</td>\n",
       "      <td>2024-03-11 02:24:05</td>\n",
       "      <td>www.drom.ru</td>\n",
       "      <td>/reviews/mazda/</td>\n",
       "      <td>2DFFCEFAE7058EADEC2146CC6909D61F9</td>\n",
       "      <td>NaN</td>\n",
       "      <td>B</td>\n",
       "      <td>2024-03-11</td>\n",
       "    </tr>\n",
       "    <tr>\n",
       "      <th>1</th>\n",
       "      <td>2024-03-11</td>\n",
       "      <td>2024-03-11 08:32:45</td>\n",
       "      <td>www.drom.ru</td>\n",
       "      <td>/reviews/mazda/</td>\n",
       "      <td>AF07979ACDDE0FB05AC0BA043618C1C01</td>\n",
       "      <td>NaN</td>\n",
       "      <td>B</td>\n",
       "      <td>2024-03-11</td>\n",
       "    </tr>\n",
       "    <tr>\n",
       "      <th>2</th>\n",
       "      <td>2024-03-11</td>\n",
       "      <td>2024-03-10 14:21:12</td>\n",
       "      <td>www.drom.ru</td>\n",
       "      <td>/reviews/</td>\n",
       "      <td>B09421E2D5E29714C394D2408D0DF9FE1</td>\n",
       "      <td>NaN</td>\n",
       "      <td>B</td>\n",
       "      <td>2024-03-11</td>\n",
       "    </tr>\n",
       "    <tr>\n",
       "      <th>3</th>\n",
       "      <td>2024-03-11</td>\n",
       "      <td>2024-03-10 22:34:45</td>\n",
       "      <td>www.drom.ru</td>\n",
       "      <td>/reviews/mazda/</td>\n",
       "      <td>17D10C2F9AA72622A403E5BFB5EAA7556</td>\n",
       "      <td>NaN</td>\n",
       "      <td>A</td>\n",
       "      <td>2024-03-11</td>\n",
       "    </tr>\n",
       "    <tr>\n",
       "      <th>4</th>\n",
       "      <td>2024-03-11</td>\n",
       "      <td>2024-03-11 05:35:15</td>\n",
       "      <td>www.drom.ru</td>\n",
       "      <td>/reviews/toyota/</td>\n",
       "      <td>5966060A2DE813BA4F89F6BD935A94717</td>\n",
       "      <td>NaN</td>\n",
       "      <td>B</td>\n",
       "      <td>2024-03-11</td>\n",
       "    </tr>\n",
       "  </tbody>\n",
       "</table>\n",
       "</div>"
      ],
      "text/plain": [
       "           dt                  tme         host               uri  \\\n",
       "0  2024-03-11  2024-03-11 02:24:05  www.drom.ru   /reviews/mazda/   \n",
       "1  2024-03-11  2024-03-11 08:32:45  www.drom.ru   /reviews/mazda/   \n",
       "2  2024-03-11  2024-03-10 14:21:12  www.drom.ru         /reviews/   \n",
       "3  2024-03-11  2024-03-10 22:34:45  www.drom.ru   /reviews/mazda/   \n",
       "4  2024-03-11  2024-03-11 05:35:15  www.drom.ru  /reviews/toyota/   \n",
       "\n",
       "                                uuid http_referer group first_enter_dt  \n",
       "0  2DFFCEFAE7058EADEC2146CC6909D61F9          NaN     B     2024-03-11  \n",
       "1  AF07979ACDDE0FB05AC0BA043618C1C01          NaN     B     2024-03-11  \n",
       "2  B09421E2D5E29714C394D2408D0DF9FE1          NaN     B     2024-03-11  \n",
       "3  17D10C2F9AA72622A403E5BFB5EAA7556          NaN     A     2024-03-11  \n",
       "4  5966060A2DE813BA4F89F6BD935A94717          NaN     B     2024-03-11  "
      ]
     },
     "execution_count": 117,
     "metadata": {},
     "output_type": "execute_result"
    }
   ],
   "source": [
    "first_enter.columns = ['uuid','first_enter_dt']\n",
    "df_with_first_enter = pd.merge(df, first_enter, on='uuid')\n",
    "df_with_first_enter.head()"
   ]
  },
  {
   "cell_type": "code",
   "execution_count": 118,
   "id": "279490ef",
   "metadata": {
    "ExecuteTime": {
     "end_time": "2024-07-24T15:41:20.336587Z",
     "start_time": "2024-07-24T15:41:20.300674Z"
    },
    "scrolled": true
   },
   "outputs": [
    {
     "data": {
      "text/html": [
       "<div>\n",
       "<style scoped>\n",
       "    .dataframe tbody tr th:only-of-type {\n",
       "        vertical-align: middle;\n",
       "    }\n",
       "\n",
       "    .dataframe tbody tr th {\n",
       "        vertical-align: top;\n",
       "    }\n",
       "\n",
       "    .dataframe thead th {\n",
       "        text-align: right;\n",
       "    }\n",
       "</style>\n",
       "<table border=\"1\" class=\"dataframe\">\n",
       "  <thead>\n",
       "    <tr style=\"text-align: right;\">\n",
       "      <th></th>\n",
       "      <th>dt</th>\n",
       "      <th>tme</th>\n",
       "      <th>host</th>\n",
       "      <th>uri</th>\n",
       "      <th>uuid</th>\n",
       "      <th>http_referer</th>\n",
       "      <th>group</th>\n",
       "      <th>first_enter_dt</th>\n",
       "      <th>next_dt</th>\n",
       "    </tr>\n",
       "  </thead>\n",
       "  <tbody>\n",
       "    <tr>\n",
       "      <th>0</th>\n",
       "      <td>2024-03-11</td>\n",
       "      <td>2024-03-11 02:24:05</td>\n",
       "      <td>www.drom.ru</td>\n",
       "      <td>/reviews/mazda/</td>\n",
       "      <td>2DFFCEFAE7058EADEC2146CC6909D61F9</td>\n",
       "      <td>NaN</td>\n",
       "      <td>B</td>\n",
       "      <td>2024-03-11</td>\n",
       "      <td>2024-03-12</td>\n",
       "    </tr>\n",
       "    <tr>\n",
       "      <th>1</th>\n",
       "      <td>2024-03-11</td>\n",
       "      <td>2024-03-11 08:32:45</td>\n",
       "      <td>www.drom.ru</td>\n",
       "      <td>/reviews/mazda/</td>\n",
       "      <td>AF07979ACDDE0FB05AC0BA043618C1C01</td>\n",
       "      <td>NaN</td>\n",
       "      <td>B</td>\n",
       "      <td>2024-03-11</td>\n",
       "      <td>2024-03-12</td>\n",
       "    </tr>\n",
       "    <tr>\n",
       "      <th>2</th>\n",
       "      <td>2024-03-11</td>\n",
       "      <td>2024-03-10 14:21:12</td>\n",
       "      <td>www.drom.ru</td>\n",
       "      <td>/reviews/</td>\n",
       "      <td>B09421E2D5E29714C394D2408D0DF9FE1</td>\n",
       "      <td>NaN</td>\n",
       "      <td>B</td>\n",
       "      <td>2024-03-11</td>\n",
       "      <td>2024-03-12</td>\n",
       "    </tr>\n",
       "    <tr>\n",
       "      <th>3</th>\n",
       "      <td>2024-03-11</td>\n",
       "      <td>2024-03-10 22:34:45</td>\n",
       "      <td>www.drom.ru</td>\n",
       "      <td>/reviews/mazda/</td>\n",
       "      <td>17D10C2F9AA72622A403E5BFB5EAA7556</td>\n",
       "      <td>NaN</td>\n",
       "      <td>A</td>\n",
       "      <td>2024-03-11</td>\n",
       "      <td>2024-03-12</td>\n",
       "    </tr>\n",
       "    <tr>\n",
       "      <th>4</th>\n",
       "      <td>2024-03-11</td>\n",
       "      <td>2024-03-11 05:35:15</td>\n",
       "      <td>www.drom.ru</td>\n",
       "      <td>/reviews/toyota/</td>\n",
       "      <td>5966060A2DE813BA4F89F6BD935A94717</td>\n",
       "      <td>NaN</td>\n",
       "      <td>B</td>\n",
       "      <td>2024-03-11</td>\n",
       "      <td>2024-03-12</td>\n",
       "    </tr>\n",
       "  </tbody>\n",
       "</table>\n",
       "</div>"
      ],
      "text/plain": [
       "           dt                  tme         host               uri  \\\n",
       "0  2024-03-11  2024-03-11 02:24:05  www.drom.ru   /reviews/mazda/   \n",
       "1  2024-03-11  2024-03-11 08:32:45  www.drom.ru   /reviews/mazda/   \n",
       "2  2024-03-11  2024-03-10 14:21:12  www.drom.ru         /reviews/   \n",
       "3  2024-03-11  2024-03-10 22:34:45  www.drom.ru   /reviews/mazda/   \n",
       "4  2024-03-11  2024-03-11 05:35:15  www.drom.ru  /reviews/toyota/   \n",
       "\n",
       "                                uuid http_referer group first_enter_dt  \\\n",
       "0  2DFFCEFAE7058EADEC2146CC6909D61F9          NaN     B     2024-03-11   \n",
       "1  AF07979ACDDE0FB05AC0BA043618C1C01          NaN     B     2024-03-11   \n",
       "2  B09421E2D5E29714C394D2408D0DF9FE1          NaN     B     2024-03-11   \n",
       "3  17D10C2F9AA72622A403E5BFB5EAA7556          NaN     A     2024-03-11   \n",
       "4  5966060A2DE813BA4F89F6BD935A94717          NaN     B     2024-03-11   \n",
       "\n",
       "     next_dt  \n",
       "0 2024-03-12  \n",
       "1 2024-03-12  \n",
       "2 2024-03-12  \n",
       "3 2024-03-12  \n",
       "4 2024-03-12  "
      ]
     },
     "execution_count": 118,
     "metadata": {},
     "output_type": "execute_result"
    }
   ],
   "source": [
    "df_with_first_enter['next_dt'] = pd.to_datetime(df_with_first_enter['first_enter_dt']) + pd.Timedelta(days=1)\n",
    "df_with_first_enter.head()"
   ]
  },
  {
   "cell_type": "code",
   "execution_count": 119,
   "id": "5a6b04ee",
   "metadata": {
    "ExecuteTime": {
     "end_time": "2024-07-24T15:41:20.440906Z",
     "start_time": "2024-07-24T15:41:20.340124Z"
    }
   },
   "outputs": [
    {
     "data": {
      "text/html": [
       "<div>\n",
       "<style scoped>\n",
       "    .dataframe tbody tr th:only-of-type {\n",
       "        vertical-align: middle;\n",
       "    }\n",
       "\n",
       "    .dataframe tbody tr th {\n",
       "        vertical-align: top;\n",
       "    }\n",
       "\n",
       "    .dataframe thead th {\n",
       "        text-align: right;\n",
       "    }\n",
       "</style>\n",
       "<table border=\"1\" class=\"dataframe\">\n",
       "  <thead>\n",
       "    <tr style=\"text-align: right;\">\n",
       "      <th></th>\n",
       "      <th>dt</th>\n",
       "      <th>tme</th>\n",
       "      <th>host</th>\n",
       "      <th>uri</th>\n",
       "      <th>uuid</th>\n",
       "      <th>http_referer</th>\n",
       "      <th>group</th>\n",
       "      <th>first_enter_dt</th>\n",
       "      <th>next_dt</th>\n",
       "    </tr>\n",
       "  </thead>\n",
       "  <tbody>\n",
       "    <tr>\n",
       "      <th>34</th>\n",
       "      <td>2024-03-12</td>\n",
       "      <td>2024-03-11 14:09:01</td>\n",
       "      <td>www.drom.ru</td>\n",
       "      <td>/reviews/</td>\n",
       "      <td>E882E1B7F3F6967249E8BE02F33208F59</td>\n",
       "      <td>https://www.drom.ru/</td>\n",
       "      <td>B</td>\n",
       "      <td>2024-03-11</td>\n",
       "      <td>2024-03-12</td>\n",
       "    </tr>\n",
       "    <tr>\n",
       "      <th>35</th>\n",
       "      <td>2024-03-12</td>\n",
       "      <td>2024-03-12 10:12:11</td>\n",
       "      <td>www.drom.ru</td>\n",
       "      <td>/reviews/</td>\n",
       "      <td>E882E1B7F3F6967249E8BE02F33208F59</td>\n",
       "      <td>https://www.drom.ru/</td>\n",
       "      <td>B</td>\n",
       "      <td>2024-03-11</td>\n",
       "      <td>2024-03-12</td>\n",
       "    </tr>\n",
       "    <tr>\n",
       "      <th>95</th>\n",
       "      <td>2024-03-13</td>\n",
       "      <td>2024-03-13 03:39:05</td>\n",
       "      <td>www.drom.ru</td>\n",
       "      <td>/reviews/mazda/</td>\n",
       "      <td>F68952AEE2411D9936A3F4D031D31C7A3</td>\n",
       "      <td>https://www.drom.ru/reviews/</td>\n",
       "      <td>B</td>\n",
       "      <td>2024-03-12</td>\n",
       "      <td>2024-03-13</td>\n",
       "    </tr>\n",
       "    <tr>\n",
       "      <th>96</th>\n",
       "      <td>2024-03-13</td>\n",
       "      <td>2024-03-13 03:38:58</td>\n",
       "      <td>www.drom.ru</td>\n",
       "      <td>/reviews/</td>\n",
       "      <td>F68952AEE2411D9936A3F4D031D31C7A3</td>\n",
       "      <td>https://www.google.com/</td>\n",
       "      <td>B</td>\n",
       "      <td>2024-03-12</td>\n",
       "      <td>2024-03-13</td>\n",
       "    </tr>\n",
       "    <tr>\n",
       "      <th>127</th>\n",
       "      <td>2024-03-14</td>\n",
       "      <td>2024-03-13 14:05:03</td>\n",
       "      <td>www.drom.ru</td>\n",
       "      <td>/reviews/</td>\n",
       "      <td>99E099DC217AEEB8E0A8513B3A23DCCE2</td>\n",
       "      <td>https://www.drom.ru/catalog/cheryexeed/lx/g_20...</td>\n",
       "      <td>A</td>\n",
       "      <td>2024-03-13</td>\n",
       "      <td>2024-03-14</td>\n",
       "    </tr>\n",
       "  </tbody>\n",
       "</table>\n",
       "</div>"
      ],
      "text/plain": [
       "             dt                  tme         host              uri  \\\n",
       "34   2024-03-12  2024-03-11 14:09:01  www.drom.ru        /reviews/   \n",
       "35   2024-03-12  2024-03-12 10:12:11  www.drom.ru        /reviews/   \n",
       "95   2024-03-13  2024-03-13 03:39:05  www.drom.ru  /reviews/mazda/   \n",
       "96   2024-03-13  2024-03-13 03:38:58  www.drom.ru        /reviews/   \n",
       "127  2024-03-14  2024-03-13 14:05:03  www.drom.ru        /reviews/   \n",
       "\n",
       "                                  uuid  \\\n",
       "34   E882E1B7F3F6967249E8BE02F33208F59   \n",
       "35   E882E1B7F3F6967249E8BE02F33208F59   \n",
       "95   F68952AEE2411D9936A3F4D031D31C7A3   \n",
       "96   F68952AEE2411D9936A3F4D031D31C7A3   \n",
       "127  99E099DC217AEEB8E0A8513B3A23DCCE2   \n",
       "\n",
       "                                          http_referer group first_enter_dt  \\\n",
       "34                                https://www.drom.ru/     B     2024-03-11   \n",
       "35                                https://www.drom.ru/     B     2024-03-11   \n",
       "95                        https://www.drom.ru/reviews/     B     2024-03-12   \n",
       "96                             https://www.google.com/     B     2024-03-12   \n",
       "127  https://www.drom.ru/catalog/cheryexeed/lx/g_20...     A     2024-03-13   \n",
       "\n",
       "       next_dt  \n",
       "34  2024-03-12  \n",
       "35  2024-03-12  \n",
       "95  2024-03-13  \n",
       "96  2024-03-13  \n",
       "127 2024-03-14  "
      ]
     },
     "execution_count": 119,
     "metadata": {},
     "output_type": "execute_result"
    }
   ],
   "source": [
    "returned_next_day = df_with_first_enter[df_with_first_enter.dt==df_with_first_enter.next_dt]\n",
    "returned_next_day.head()"
   ]
  },
  {
   "cell_type": "code",
   "execution_count": 120,
   "id": "b80e162d",
   "metadata": {
    "ExecuteTime": {
     "end_time": "2024-07-24T15:41:20.486552Z",
     "start_time": "2024-07-24T15:41:20.442917Z"
    },
    "scrolled": true
   },
   "outputs": [
    {
     "data": {
      "text/plain": [
       "group\n",
       "A    2.370834\n",
       "B    2.442944\n",
       "Name: uuid, dtype: float64"
      ]
     },
     "execution_count": 120,
     "metadata": {},
     "output_type": "execute_result"
    }
   ],
   "source": [
    "# подсчёт ретеншен 2 дня общий\n",
    "returned_next_day.groupby('group')['uuid'].nunique() / df_with_first_enter.groupby('group')['uuid'].nunique() * 100"
   ]
  },
  {
   "cell_type": "code",
   "execution_count": 121,
   "id": "636a22f4",
   "metadata": {
    "ExecuteTime": {
     "end_time": "2024-07-24T15:41:20.496193Z",
     "start_time": "2024-07-24T15:41:20.488561Z"
    },
    "scrolled": true
   },
   "outputs": [
    {
     "data": {
      "text/plain": [
       "group\n",
       "A    954\n",
       "B    973\n",
       "Name: uuid, dtype: int64"
      ]
     },
     "execution_count": 121,
     "metadata": {},
     "output_type": "execute_result"
    }
   ],
   "source": [
    "# отдельно\n",
    "returned_next_day.groupby('group')['uuid'].nunique()"
   ]
  },
  {
   "cell_type": "code",
   "execution_count": 122,
   "id": "ca96047c",
   "metadata": {
    "ExecuteTime": {
     "end_time": "2024-07-24T15:41:20.539512Z",
     "start_time": "2024-07-24T15:41:20.498199Z"
    },
    "scrolled": true
   },
   "outputs": [
    {
     "data": {
      "text/plain": [
       "group\n",
       "A    40239\n",
       "B    39829\n",
       "Name: uuid, dtype: int64"
      ]
     },
     "execution_count": 122,
     "metadata": {},
     "output_type": "execute_result"
    }
   ],
   "source": [
    "df_with_first_enter.groupby('group')['uuid'].nunique()"
   ]
  },
  {
   "cell_type": "code",
   "execution_count": 123,
   "id": "a9e69020",
   "metadata": {
    "ExecuteTime": {
     "end_time": "2024-07-24T15:41:20.550097Z",
     "start_time": "2024-07-24T15:41:20.539512Z"
    },
    "scrolled": true
   },
   "outputs": [
    {
     "name": "stdout",
     "output_type": "stream",
     "text": [
      "Всего в группе А: 40239\n",
      "Всего в группе B: 39829\n",
      "Вернулись на второй день в группе А: 954\n",
      "Вернулись на второй день в группе B: 973\n",
      "P-value: 0.34089183990715816\n"
     ]
    }
   ],
   "source": [
    "\n",
    "# Общее количество пользователей в каждой группе\n",
    "total_users_A = 40239\n",
    "total_users_B = 39829\n",
    "\n",
    "# Количество пользователей, вернувшихся на второй день в каждой группе\n",
    "returned_users_A = 954\n",
    "returned_users_B = 973\n",
    "\n",
    "# Проведение биномиального теста\n",
    "p_value = stats.binom_test([returned_users_A, returned_users_B], n=[total_users_A, total_users_B], alternative='less')\n",
    "\n",
    "print(\"Всего в группе А:\", total_users_A)\n",
    "print(\"Всего в группе B:\", total_users_B)\n",
    "print(\"Вернулись на второй день в группе А:\", returned_users_A)\n",
    "print(\"Вернулись на второй день в группе B:\", returned_users_B)\n",
    "print(\"P-value:\", p_value)"
   ]
  },
  {
   "cell_type": "markdown",
   "id": "377dd084",
   "metadata": {},
   "source": [
    "PV больше 0.05, мы не можем отвергуть гиппотезу А>=B"
   ]
  },
  {
   "cell_type": "code",
   "execution_count": 130,
   "id": "f70f5666",
   "metadata": {
    "ExecuteTime": {
     "end_time": "2024-07-24T15:43:14.825050Z",
     "start_time": "2024-07-24T15:43:14.814790Z"
    }
   },
   "outputs": [
    {
     "name": "stdout",
     "output_type": "stream",
     "text": [
      "Группа A: пропорция = 0.0237, 95% доверительный интервал = (0.0222, 0.0252)\n",
      "Группа B: пропорция = 0.0244, 95% доверительный интервал = (0.0229, 0.0259)\n"
     ]
    }
   ],
   "source": [
    "import math\n",
    "# Данные\n",
    "total_users_A = 40239\n",
    "total_users_B = 39829\n",
    "returned_users_A = 954\n",
    "returned_users_B = 973\n",
    "\n",
    "# Пропорции\n",
    "p_A = returned_users_A / total_users_A\n",
    "p_B = returned_users_B / total_users_B\n",
    "\n",
    "# Критическое значение для 95% доверительного интервала\n",
    "z = 1.96\n",
    "\n",
    "# Доверительный интервал для группы A\n",
    "ci_lower_A = p_A - z * math.sqrt((p_A * (1 - p_A)) / total_users_A)\n",
    "ci_upper_A = p_A + z * math.sqrt((p_A * (1 - p_A)) / total_users_A)\n",
    "\n",
    "# Доверительный интервал для группы B\n",
    "ci_lower_B = p_B - z * math.sqrt((p_B * (1 - p_B)) / total_users_B)\n",
    "ci_upper_B = p_B + z * math.sqrt((p_B * (1 - p_B)) / total_users_B)\n",
    "\n",
    "print(f\"Группа A: пропорция = {p_A:.4f}, 95% доверительный интервал = ({ci_lower_A:.4f}, {ci_upper_A:.4f})\")\n",
    "print(f\"Группа B: пропорция = {p_B:.4f}, 95% доверительный интервал = ({ci_lower_B:.4f}, {ci_upper_B:.4f})\")\n"
   ]
  },
  {
   "cell_type": "code",
   "execution_count": 149,
   "id": "5d68c779",
   "metadata": {
    "ExecuteTime": {
     "end_time": "2024-07-24T15:46:55.882648Z",
     "start_time": "2024-07-24T15:46:55.759205Z"
    }
   },
   "outputs": [
    {
     "data": {
      "image/png": "[encoded data removed]",
      "text/plain": [
       "<Figure size 600x500 with 1 Axes>"
      ]
     },
     "metadata": {},
     "output_type": "display_data"
    }
   ],
   "source": [
    "groups = ['A', 'B']\n",
    "proportions = [p_A, p_B]\n",
    "ci_lowers = [p_A - ci_lower_A, p_B - ci_lower_B]\n",
    "ci_uppers = [ci_upper_A - p_A, ci_upper_B - p_B]\n",
    "\n",
    "plt.figure(figsize=(6, 5))\n",
    "\n",
    "# Построение графика с использованием errorbar\n",
    "# Отображение первой группы\n",
    "plt.errorbar(groups[0], proportions[0], \n",
    "             yerr=[[ci_lowers[0]], [ci_uppers[0]]], \n",
    "             fmt='o', \n",
    "             color='blue', \n",
    "             capsize=10, \n",
    "             ecolor='blue')\n",
    "\n",
    "# Отображение второй группы\n",
    "plt.errorbar(groups[1], proportions[1], \n",
    "             yerr=[[ci_lowers[1]], [ci_uppers[1]]], \n",
    "             fmt='o', \n",
    "             color='orange', \n",
    "             capsize=10, \n",
    "             ecolor='orange')\n",
    "\n",
    "plt.ylim(0.02, 0.03)\n",
    "plt.ylabel('Ретеншен')\n",
    "plt.title('Ретеншен второго дня. 95% доверительные интервалы')\n",
    "plt.grid()\n",
    "plt.show()"
   ]
  },
  {
   "cell_type": "code",
   "execution_count": 150,
   "id": "7ce62168",
   "metadata": {
    "ExecuteTime": {
     "end_time": "2024-07-24T15:53:56.298094Z",
     "start_time": "2024-07-24T15:53:56.017212Z"
    }
   },
   "outputs": [
    {
     "data": {
      "image/png": "[encoded data removed]",
      "text/plain": [
       "<Figure size 640x480 with 1 Axes>"
      ]
     },
     "metadata": {},
     "output_type": "display_data"
    }
   ],
   "source": [
    "# анализ ретеншен по дням\n",
    "days = returned_next_day.groupby(['group','first_enter_dt'])['uuid'].nunique() / df_with_first_enter.groupby(['group','first_enter_dt'])['uuid'].nunique() * 100\n",
    "days.reset_index()\n",
    "temp =sns.lineplot(data=days.reset_index(),x='first_enter_dt',y='uuid',hue='group')\n",
    "plt.grid()\n",
    "plt.ylim([0,6.5])\n",
    "temp.set(xlabel='дата первого входа',ylabel='ретеншен в группе, %',title='ретеншен второго дня');"
   ]
  },
  {
   "cell_type": "markdown",
   "id": "4df94a53",
   "metadata": {},
   "source": [
    "## Конверсия"
   ]
  },
  {
   "cell_type": "code",
   "execution_count": 151,
   "id": "7dfb9421",
   "metadata": {
    "ExecuteTime": {
     "end_time": "2024-07-24T15:59:12.509617Z",
     "start_time": "2024-07-24T15:59:12.454052Z"
    }
   },
   "outputs": [
    {
     "data": {
      "text/plain": [
       "group\n",
       "A    40.291116\n",
       "B    39.435557\n",
       "Name: uuid, dtype: float64"
      ]
     },
     "execution_count": 151,
     "metadata": {},
     "output_type": "execute_result"
    }
   ],
   "source": [
    "# конверсия\n",
    "rewiews_uri = df_with_first_enter[df_with_first_enter['uri'] == '/reviews/']\n",
    "rewiews_host = df_with_first_enter[(df_with_first_enter['http_referer'] == 'https://www.drom.ru/reviews/')]\n",
    "conv = rewiews_host.groupby('group')['uuid'].nunique() / rewiews_uri.groupby('group')['uuid'].nunique() * 100\n",
    "conv"
   ]
  },
  {
   "cell_type": "code",
   "execution_count": 152,
   "id": "a2efe7a8",
   "metadata": {
    "ExecuteTime": {
     "end_time": "2024-07-24T15:59:12.884438Z",
     "start_time": "2024-07-24T15:59:12.652728Z"
    }
   },
   "outputs": [
    {
     "data": {
      "image/png": "[encoded data removed]",
      "text/plain": [
       "<Figure size 1000x500 with 1 Axes>"
      ]
     },
     "metadata": {},
     "output_type": "display_data"
    }
   ],
   "source": [
    "# график конверсии по дням\n",
    "conv_by_day = rewiews_host.groupby(['group','dt'])['uuid'].nunique() / rewiews_uri.groupby(['group','dt'])['uuid'].nunique() * 100\n",
    "plt.figure(figsize=(10,5))\n",
    "temp =sns.lineplot(data=conv_by_day.reset_index(),x='dt',y='uuid',hue='group')\n",
    "plt.grid()\n",
    "temp.set(xlabel='дата',ylabel='конверсия, %',title='конверсия по дням');"
   ]
  },
  {
   "cell_type": "code",
   "execution_count": 50,
   "id": "399c3995",
   "metadata": {
    "ExecuteTime": {
     "end_time": "2024-07-20T13:31:46.911443Z",
     "start_time": "2024-07-20T13:31:46.366772Z"
    }
   },
   "outputs": [
    {
     "data": {
      "image/png": "[encoded data removed]",
      "text/plain": [
       "<Figure size 1000x500 with 1 Axes>"
      ]
     },
     "metadata": {},
     "output_type": "display_data"
    }
   ],
   "source": [
    "# график конверсии по дням реальный масштаб\n",
    "conv_by_day = rewiews_host.groupby(['group','dt'])['uuid'].nunique() / rewiews_uri.groupby(['group','dt'])['uuid'].nunique() * 100\n",
    "plt.figure(figsize=(10,5))\n",
    "temp =sns.lineplot(data=conv_by_day.reset_index(),x='dt',y='uuid',hue='group')\n",
    "plt.grid()\n",
    "plt.ylim([0,100])\n",
    "temp.set(xlabel='дата',ylabel='конверсия, %',title='конверсия по дням');"
   ]
  },
  {
   "cell_type": "code",
   "execution_count": 52,
   "id": "dcb02993",
   "metadata": {
    "ExecuteTime": {
     "end_time": "2024-07-20T13:38:19.164031Z",
     "start_time": "2024-07-20T13:38:19.133648Z"
    }
   },
   "outputs": [
    {
     "data": {
      "text/plain": [
       "group\n",
       "A    5370\n",
       "B    5226\n",
       "Name: uuid, dtype: int64"
      ]
     },
     "execution_count": 52,
     "metadata": {},
     "output_type": "execute_result"
    }
   ],
   "source": [
    "rewiews_host.groupby('group')['uuid'].nunique()"
   ]
  },
  {
   "cell_type": "code",
   "execution_count": 55,
   "id": "13d88206",
   "metadata": {
    "ExecuteTime": {
     "end_time": "2024-07-20T13:38:39.127640Z",
     "start_time": "2024-07-20T13:38:39.084717Z"
    }
   },
   "outputs": [
    {
     "data": {
      "text/plain": [
       "group\n",
       "A    13328\n",
       "B    13252\n",
       "Name: uuid, dtype: int64"
      ]
     },
     "execution_count": 55,
     "metadata": {},
     "output_type": "execute_result"
    }
   ],
   "source": [
    "rewiews_uri.groupby(['group'])['uuid'].nunique()"
   ]
  },
  {
   "cell_type": "code",
   "execution_count": null,
   "id": "d5107a95",
   "metadata": {},
   "outputs": [],
   "source": []
  },
  {
   "cell_type": "code",
   "execution_count": 161,
   "id": "172bbc89",
   "metadata": {
    "ExecuteTime": {
     "end_time": "2024-07-24T16:05:44.464876Z",
     "start_time": "2024-07-24T16:05:44.457312Z"
    }
   },
   "outputs": [
    {
     "name": "stdout",
     "output_type": "stream",
     "text": [
      "Всего в группе А: 13328\n",
      "Всего в группе B: 13252\n",
      "Перешли по ссылке в группе A: 5370\n",
      "Перешли по ссылке в группе B: 5226\n",
      "P-value: 0.0823842867004142\n"
     ]
    }
   ],
   "source": [
    "# Общее количество пользователей в каждой группе\n",
    "total_users_A = 13328\n",
    "total_users_B = 13252\n",
    "\n",
    "# Количество пользователей, совершивших целевое действие\n",
    "conv_users_A = 5370\n",
    "conv_users_B = 5226\n",
    "\n",
    "# Проведение биномиального теста\n",
    "p_value = stats.binom_test([conv_users_A, conv_users_B], n=[total_users_A, total_users_B], alternative='greater')\n",
    "\n",
    "print(\"Всего в группе А:\", total_users_A)\n",
    "print(\"Всего в группе B:\", total_users_B)\n",
    "print(\"Перешли по ссылке в группе A:\", conv_users_A)\n",
    "print(\"Перешли по ссылке в группе B:\", conv_users_B)\n",
    "print(\"P-value:\", p_value)"
   ]
  },
  {
   "cell_type": "code",
   "execution_count": 162,
   "id": "0e83a751",
   "metadata": {
    "ExecuteTime": {
     "end_time": "2024-07-24T16:05:44.672711Z",
     "start_time": "2024-07-24T16:05:44.664010Z"
    }
   },
   "outputs": [
    {
     "name": "stdout",
     "output_type": "stream",
     "text": [
      "Группа A: пропорция = 0.4029, 95% доверительный интервал = (0.3946, 0.4112)\n",
      "Группа B: пропорция = 0.3944, 95% доверительный интервал = (0.3860, 0.4027)\n"
     ]
    }
   ],
   "source": [
    "import math\n",
    "\n",
    "total_users_A = 13328\n",
    "total_users_B = 13252\n",
    "\n",
    "# Количество пользователей, совершивших целевое действие\n",
    "conv_users_A = 5370\n",
    "conv_users_B = 5226\n",
    "\n",
    "# Пропорции\n",
    "p_A = conv_users_A / total_users_A\n",
    "p_B = conv_users_B / total_users_B\n",
    "\n",
    "# Критическое значение для 95% доверительного интервала\n",
    "z = 1.96\n",
    "\n",
    "# Доверительный интервал для группы A\n",
    "ci_lower_A = p_A - z * math.sqrt((p_A * (1 - p_A)) / total_users_A)\n",
    "ci_upper_A = p_A + z * math.sqrt((p_A * (1 - p_A)) / total_users_A)\n",
    "\n",
    "# Доверительный интервал для группы B\n",
    "ci_lower_B = p_B - z * math.sqrt((p_B * (1 - p_B)) / total_users_B)\n",
    "ci_upper_B = p_B + z * math.sqrt((p_B * (1 - p_B)) / total_users_B)\n",
    "\n",
    "print(f\"Группа A: пропорция = {p_A:.4f}, 95% доверительный интервал = ({ci_lower_A:.4f}, {ci_upper_A:.4f})\")\n",
    "print(f\"Группа B: пропорция = {p_B:.4f}, 95% доверительный интервал = ({ci_lower_B:.4f}, {ci_upper_B:.4f})\")"
   ]
  },
  {
   "cell_type": "code",
   "execution_count": 163,
   "id": "e29a0659",
   "metadata": {
    "ExecuteTime": {
     "end_time": "2024-07-24T16:05:45.098405Z",
     "start_time": "2024-07-24T16:05:44.967304Z"
    }
   },
   "outputs": [
    {
     "data": {
      "image/png": "[encoded data removed]",
      "text/plain": [
       "<Figure size 600x500 with 1 Axes>"
      ]
     },
     "metadata": {},
     "output_type": "display_data"
    }
   ],
   "source": [
    "groups = ['A', 'B']\n",
    "proportions = [p_A, p_B]\n",
    "ci_lowers = [p_A - ci_lower_A, p_B - ci_lower_B]\n",
    "ci_uppers = [ci_upper_A - p_A, ci_upper_B - p_B]\n",
    "\n",
    "plt.figure(figsize=(6, 5))\n",
    "\n",
    "# Построение графика с использованием errorbar\n",
    "# Отображение первой группы\n",
    "plt.errorbar(groups[0], proportions[0], \n",
    "             yerr=[[ci_lowers[0]], [ci_uppers[0]]], \n",
    "             fmt='o', \n",
    "             color='blue', \n",
    "             capsize=10, \n",
    "             ecolor='blue')\n",
    "\n",
    "# Отображение второй группы\n",
    "plt.errorbar(groups[1], proportions[1], \n",
    "             yerr=[[ci_lowers[1]], [ci_uppers[1]]], \n",
    "             fmt='o', \n",
    "             color='orange', \n",
    "             capsize=10, \n",
    "             ecolor='orange')\n",
    "\n",
    "plt.ylim(0.38, 0.43)\n",
    "plt.ylabel('Конверсия')\n",
    "plt.title('Конверсия по группам 95% доверительные интервалы')\n",
    "plt.grid()\n",
    "plt.show()"
   ]
  },
  {
   "cell_type": "code",
   "execution_count": 164,
   "id": "5155c6a7",
   "metadata": {
    "ExecuteTime": {
     "end_time": "2024-07-24T16:05:45.594922Z",
     "start_time": "2024-07-24T16:05:45.572991Z"
    }
   },
   "outputs": [
    {
     "data": {
      "text/html": [
       "<div>\n",
       "<style scoped>\n",
       "    .dataframe tbody tr th:only-of-type {\n",
       "        vertical-align: middle;\n",
       "    }\n",
       "\n",
       "    .dataframe tbody tr th {\n",
       "        vertical-align: top;\n",
       "    }\n",
       "\n",
       "    .dataframe thead th {\n",
       "        text-align: right;\n",
       "    }\n",
       "</style>\n",
       "<table border=\"1\" class=\"dataframe\">\n",
       "  <thead>\n",
       "    <tr style=\"text-align: right;\">\n",
       "      <th></th>\n",
       "      <th>dt</th>\n",
       "      <th>tme</th>\n",
       "      <th>host</th>\n",
       "      <th>uri</th>\n",
       "      <th>uuid</th>\n",
       "      <th>http_referer</th>\n",
       "      <th>group</th>\n",
       "      <th>first_enter_dt</th>\n",
       "      <th>next_dt</th>\n",
       "    </tr>\n",
       "  </thead>\n",
       "  <tbody>\n",
       "    <tr>\n",
       "      <th>2</th>\n",
       "      <td>2024-03-11</td>\n",
       "      <td>2024-03-10 14:21:12</td>\n",
       "      <td>www.drom.ru</td>\n",
       "      <td>/reviews/</td>\n",
       "      <td>B09421E2D5E29714C394D2408D0DF9FE1</td>\n",
       "      <td>NaN</td>\n",
       "      <td>B</td>\n",
       "      <td>2024-03-11</td>\n",
       "      <td>2024-03-12</td>\n",
       "    </tr>\n",
       "    <tr>\n",
       "      <th>5</th>\n",
       "      <td>2024-03-16</td>\n",
       "      <td>2024-03-16 04:11:11</td>\n",
       "      <td>www.drom.ru</td>\n",
       "      <td>/reviews/</td>\n",
       "      <td>2CB8B477564A3C10195DD32CAAC9FF137</td>\n",
       "      <td>NaN</td>\n",
       "      <td>B</td>\n",
       "      <td>2024-03-16</td>\n",
       "      <td>2024-03-17</td>\n",
       "    </tr>\n",
       "    <tr>\n",
       "      <th>6</th>\n",
       "      <td>2024-03-14</td>\n",
       "      <td>2024-03-14 08:56:20</td>\n",
       "      <td>www.drom.ru</td>\n",
       "      <td>/reviews/</td>\n",
       "      <td>E882E1B7F3F6967249E8BE02F33208F59</td>\n",
       "      <td>https://www.drom.ru/</td>\n",
       "      <td>B</td>\n",
       "      <td>2024-03-11</td>\n",
       "      <td>2024-03-12</td>\n",
       "    </tr>\n",
       "    <tr>\n",
       "      <th>7</th>\n",
       "      <td>2024-03-14</td>\n",
       "      <td>2024-03-14 08:54:30</td>\n",
       "      <td>www.drom.ru</td>\n",
       "      <td>/reviews/</td>\n",
       "      <td>E882E1B7F3F6967249E8BE02F33208F59</td>\n",
       "      <td>https://www.drom.ru/</td>\n",
       "      <td>B</td>\n",
       "      <td>2024-03-11</td>\n",
       "      <td>2024-03-12</td>\n",
       "    </tr>\n",
       "    <tr>\n",
       "      <th>8</th>\n",
       "      <td>2024-03-14</td>\n",
       "      <td>2024-03-14 10:22:43</td>\n",
       "      <td>www.drom.ru</td>\n",
       "      <td>/reviews/</td>\n",
       "      <td>E882E1B7F3F6967249E8BE02F33208F59</td>\n",
       "      <td>https://www.drom.ru/</td>\n",
       "      <td>B</td>\n",
       "      <td>2024-03-11</td>\n",
       "      <td>2024-03-12</td>\n",
       "    </tr>\n",
       "    <tr>\n",
       "      <th>...</th>\n",
       "      <td>...</td>\n",
       "      <td>...</td>\n",
       "      <td>...</td>\n",
       "      <td>...</td>\n",
       "      <td>...</td>\n",
       "      <td>...</td>\n",
       "      <td>...</td>\n",
       "      <td>...</td>\n",
       "      <td>...</td>\n",
       "    </tr>\n",
       "    <tr>\n",
       "      <th>132969</th>\n",
       "      <td>2024-03-14</td>\n",
       "      <td>2024-03-13 22:00:36</td>\n",
       "      <td>www.drom.ru</td>\n",
       "      <td>/reviews/</td>\n",
       "      <td>C6FE5E2CD90F8AFB2729336B0A755C592</td>\n",
       "      <td>https://www.google.com</td>\n",
       "      <td>A</td>\n",
       "      <td>2024-03-14</td>\n",
       "      <td>2024-03-15</td>\n",
       "    </tr>\n",
       "    <tr>\n",
       "      <th>132971</th>\n",
       "      <td>2024-03-14</td>\n",
       "      <td>2024-03-13 18:03:31</td>\n",
       "      <td>www.drom.ru</td>\n",
       "      <td>/reviews/</td>\n",
       "      <td>6F136BC7FD66682C73685C0909A7CA291</td>\n",
       "      <td>https://www.drom.ru/reviews/roewe/rx5/</td>\n",
       "      <td>B</td>\n",
       "      <td>2024-03-14</td>\n",
       "      <td>2024-03-15</td>\n",
       "    </tr>\n",
       "    <tr>\n",
       "      <th>132972</th>\n",
       "      <td>2024-03-14</td>\n",
       "      <td>2024-03-13 18:04:26</td>\n",
       "      <td>www.drom.ru</td>\n",
       "      <td>/reviews/</td>\n",
       "      <td>6F136BC7FD66682C73685C0909A7CA291</td>\n",
       "      <td>https://www.drom.ru/reviews/roewe/rx5/</td>\n",
       "      <td>B</td>\n",
       "      <td>2024-03-14</td>\n",
       "      <td>2024-03-15</td>\n",
       "    </tr>\n",
       "    <tr>\n",
       "      <th>132979</th>\n",
       "      <td>2024-03-14</td>\n",
       "      <td>2024-03-13 17:13:43</td>\n",
       "      <td>www.drom.ru</td>\n",
       "      <td>/reviews/</td>\n",
       "      <td>5FFC801C08A185581D85E8920BAE995F0</td>\n",
       "      <td>https://www.drom.ru/</td>\n",
       "      <td>A</td>\n",
       "      <td>2024-03-14</td>\n",
       "      <td>2024-03-15</td>\n",
       "    </tr>\n",
       "    <tr>\n",
       "      <th>132981</th>\n",
       "      <td>2024-03-14</td>\n",
       "      <td>2024-03-13 17:02:22</td>\n",
       "      <td>www.drom.ru</td>\n",
       "      <td>/reviews/</td>\n",
       "      <td>00DD5ED339260D8DA125A8D4405654080</td>\n",
       "      <td>NaN</td>\n",
       "      <td>A</td>\n",
       "      <td>2024-03-14</td>\n",
       "      <td>2024-03-15</td>\n",
       "    </tr>\n",
       "  </tbody>\n",
       "</table>\n",
       "<p>52292 rows × 9 columns</p>\n",
       "</div>"
      ],
      "text/plain": [
       "                dt                  tme         host        uri  \\\n",
       "2       2024-03-11  2024-03-10 14:21:12  www.drom.ru  /reviews/   \n",
       "5       2024-03-16  2024-03-16 04:11:11  www.drom.ru  /reviews/   \n",
       "6       2024-03-14  2024-03-14 08:56:20  www.drom.ru  /reviews/   \n",
       "7       2024-03-14  2024-03-14 08:54:30  www.drom.ru  /reviews/   \n",
       "8       2024-03-14  2024-03-14 10:22:43  www.drom.ru  /reviews/   \n",
       "...            ...                  ...          ...        ...   \n",
       "132969  2024-03-14  2024-03-13 22:00:36  www.drom.ru  /reviews/   \n",
       "132971  2024-03-14  2024-03-13 18:03:31  www.drom.ru  /reviews/   \n",
       "132972  2024-03-14  2024-03-13 18:04:26  www.drom.ru  /reviews/   \n",
       "132979  2024-03-14  2024-03-13 17:13:43  www.drom.ru  /reviews/   \n",
       "132981  2024-03-14  2024-03-13 17:02:22  www.drom.ru  /reviews/   \n",
       "\n",
       "                                     uuid  \\\n",
       "2       B09421E2D5E29714C394D2408D0DF9FE1   \n",
       "5       2CB8B477564A3C10195DD32CAAC9FF137   \n",
       "6       E882E1B7F3F6967249E8BE02F33208F59   \n",
       "7       E882E1B7F3F6967249E8BE02F33208F59   \n",
       "8       E882E1B7F3F6967249E8BE02F33208F59   \n",
       "...                                   ...   \n",
       "132969  C6FE5E2CD90F8AFB2729336B0A755C592   \n",
       "132971  6F136BC7FD66682C73685C0909A7CA291   \n",
       "132972  6F136BC7FD66682C73685C0909A7CA291   \n",
       "132979  5FFC801C08A185581D85E8920BAE995F0   \n",
       "132981  00DD5ED339260D8DA125A8D4405654080   \n",
       "\n",
       "                                  http_referer group first_enter_dt    next_dt  \n",
       "2                                          NaN     B     2024-03-11 2024-03-12  \n",
       "5                                          NaN     B     2024-03-16 2024-03-17  \n",
       "6                         https://www.drom.ru/     B     2024-03-11 2024-03-12  \n",
       "7                         https://www.drom.ru/     B     2024-03-11 2024-03-12  \n",
       "8                         https://www.drom.ru/     B     2024-03-11 2024-03-12  \n",
       "...                                        ...   ...            ...        ...  \n",
       "132969                  https://www.google.com     A     2024-03-14 2024-03-15  \n",
       "132971  https://www.drom.ru/reviews/roewe/rx5/     B     2024-03-14 2024-03-15  \n",
       "132972  https://www.drom.ru/reviews/roewe/rx5/     B     2024-03-14 2024-03-15  \n",
       "132979                    https://www.drom.ru/     A     2024-03-14 2024-03-15  \n",
       "132981                                     NaN     A     2024-03-14 2024-03-15  \n",
       "\n",
       "[52292 rows x 9 columns]"
      ]
     },
     "execution_count": 164,
     "metadata": {},
     "output_type": "execute_result"
    }
   ],
   "source": [
    "rewiews_uri"
   ]
  },
  {
   "cell_type": "code",
   "execution_count": 165,
   "id": "b252d287",
   "metadata": {
    "ExecuteTime": {
     "end_time": "2024-07-24T16:05:45.910177Z",
     "start_time": "2024-07-24T16:05:45.749541Z"
    }
   },
   "outputs": [
    {
     "data": {
      "text/html": [
       "<div>\n",
       "<style scoped>\n",
       "    .dataframe tbody tr th:only-of-type {\n",
       "        vertical-align: middle;\n",
       "    }\n",
       "\n",
       "    .dataframe tbody tr th {\n",
       "        vertical-align: top;\n",
       "    }\n",
       "\n",
       "    .dataframe thead th {\n",
       "        text-align: right;\n",
       "    }\n",
       "</style>\n",
       "<table border=\"1\" class=\"dataframe\">\n",
       "  <thead>\n",
       "    <tr style=\"text-align: right;\">\n",
       "      <th></th>\n",
       "      <th>count</th>\n",
       "      <th>mean</th>\n",
       "      <th>std</th>\n",
       "      <th>min</th>\n",
       "      <th>25%</th>\n",
       "      <th>50%</th>\n",
       "      <th>75%</th>\n",
       "      <th>max</th>\n",
       "    </tr>\n",
       "    <tr>\n",
       "      <th>group</th>\n",
       "      <th></th>\n",
       "      <th></th>\n",
       "      <th></th>\n",
       "      <th></th>\n",
       "      <th></th>\n",
       "      <th></th>\n",
       "      <th></th>\n",
       "      <th></th>\n",
       "    </tr>\n",
       "  </thead>\n",
       "  <tbody>\n",
       "    <tr>\n",
       "      <th>A</th>\n",
       "      <td>5276.0</td>\n",
       "      <td>1.039111</td>\n",
       "      <td>0.542508</td>\n",
       "      <td>0.020619</td>\n",
       "      <td>1.0</td>\n",
       "      <td>1.0</td>\n",
       "      <td>1.0</td>\n",
       "      <td>9.000000</td>\n",
       "    </tr>\n",
       "    <tr>\n",
       "      <th>B</th>\n",
       "      <td>5149.0</td>\n",
       "      <td>1.040092</td>\n",
       "      <td>0.553692</td>\n",
       "      <td>0.006780</td>\n",
       "      <td>1.0</td>\n",
       "      <td>1.0</td>\n",
       "      <td>1.0</td>\n",
       "      <td>18.333333</td>\n",
       "    </tr>\n",
       "  </tbody>\n",
       "</table>\n",
       "</div>"
      ],
      "text/plain": [
       "        count      mean       std       min  25%  50%  75%        max\n",
       "group                                                                \n",
       "A      5276.0  1.039111  0.542508  0.020619  1.0  1.0  1.0   9.000000\n",
       "B      5149.0  1.040092  0.553692  0.006780  1.0  1.0  1.0  18.333333"
      ]
     },
     "execution_count": 165,
     "metadata": {},
     "output_type": "execute_result"
    }
   ],
   "source": [
    "# коверсия на пользователя\n",
    "conv_uuid = (rewiews_host.groupby(['group','uuid'])['uri'].count() / rewiews_uri.groupby(['group','uuid'])['uri'].count()).reset_index()\n",
    "conv_uuid.groupby('group')['uri'].describe()"
   ]
  },
  {
   "cell_type": "code",
   "execution_count": 175,
   "id": "047d43c5",
   "metadata": {
    "ExecuteTime": {
     "end_time": "2024-07-24T16:07:34.215408Z",
     "start_time": "2024-07-24T16:07:34.051973Z"
    }
   },
   "outputs": [
    {
     "data": {
      "image/png": "[encoded data removed]",
      "text/plain": [
       "<Figure size 640x480 with 1 Axes>"
      ]
     },
     "metadata": {},
     "output_type": "display_data"
    }
   ],
   "source": [
    "plt.hist(conv_uuid['uri'].fillna(0),bins=30,density=True);"
   ]
  },
  {
   "cell_type": "code",
   "execution_count": 179,
   "id": "6761c219",
   "metadata": {
    "ExecuteTime": {
     "end_time": "2024-07-24T16:08:21.984320Z",
     "start_time": "2024-07-24T16:08:21.968370Z"
    }
   },
   "outputs": [
    {
     "data": {
      "text/plain": [
       "TtestResult(statistic=0.8920636742952419, pvalue=0.18618341424337476, df=26749.0)"
      ]
     },
     "execution_count": 179,
     "metadata": {},
     "output_type": "execute_result"
    }
   ],
   "source": [
    "grA = conv_uuid[conv_uuid['group'] == 'A']['uri'].fillna(0)\n",
    "grB = conv_uuid[conv_uuid['group'] == 'B']['uri'].fillna(0)\n",
    "stats.ttest_ind(grA,grB,alternative='greater')"
   ]
  },
  {
   "cell_type": "code",
   "execution_count": 159,
   "id": "f19cf7b3",
   "metadata": {
    "ExecuteTime": {
     "end_time": "2024-07-20T14:56:55.681930Z",
     "start_time": "2024-07-20T14:56:55.660253Z"
    }
   },
   "outputs": [],
   "source": [
    "conv_uuid = conv_uuid[conv_uuid.uuid.isin(rewiews_uri.uuid)]"
   ]
  },
  {
   "cell_type": "code",
   "execution_count": 150,
   "id": "821436df",
   "metadata": {
    "ExecuteTime": {
     "end_time": "2024-07-20T14:53:02.026297Z",
     "start_time": "2024-07-20T14:53:01.994933Z"
    }
   },
   "outputs": [
    {
     "data": {
      "text/html": [
       "<div>\n",
       "<style scoped>\n",
       "    .dataframe tbody tr th:only-of-type {\n",
       "        vertical-align: middle;\n",
       "    }\n",
       "\n",
       "    .dataframe tbody tr th {\n",
       "        vertical-align: top;\n",
       "    }\n",
       "\n",
       "    .dataframe thead th {\n",
       "        text-align: right;\n",
       "    }\n",
       "</style>\n",
       "<table border=\"1\" class=\"dataframe\">\n",
       "  <thead>\n",
       "    <tr style=\"text-align: right;\">\n",
       "      <th></th>\n",
       "      <th>dt</th>\n",
       "      <th>tme</th>\n",
       "      <th>host</th>\n",
       "      <th>uri</th>\n",
       "      <th>uuid</th>\n",
       "      <th>http_referer</th>\n",
       "      <th>group</th>\n",
       "      <th>first_enter_dt</th>\n",
       "      <th>next_dt</th>\n",
       "    </tr>\n",
       "  </thead>\n",
       "  <tbody>\n",
       "    <tr>\n",
       "      <th>110443</th>\n",
       "      <td>2024-03-15</td>\n",
       "      <td>2024-03-15 10:11:56</td>\n",
       "      <td>www.drom.ru</td>\n",
       "      <td>/reviews/</td>\n",
       "      <td>FFEE8A53BC7A71413C7B556AD4825A465</td>\n",
       "      <td>https://www.drom.ru/reviews/lada/priora/1305685/</td>\n",
       "      <td>B</td>\n",
       "      <td>2024-03-15</td>\n",
       "      <td>2024-03-16</td>\n",
       "    </tr>\n",
       "  </tbody>\n",
       "</table>\n",
       "</div>"
      ],
      "text/plain": [
       "                dt                  tme         host        uri  \\\n",
       "110443  2024-03-15  2024-03-15 10:11:56  www.drom.ru  /reviews/   \n",
       "\n",
       "                                     uuid  \\\n",
       "110443  FFEE8A53BC7A71413C7B556AD4825A465   \n",
       "\n",
       "                                            http_referer group first_enter_dt  \\\n",
       "110443  https://www.drom.ru/reviews/lada/priora/1305685/     B     2024-03-15   \n",
       "\n",
       "          next_dt  \n",
       "110443 2024-03-16  "
      ]
     },
     "execution_count": 150,
     "metadata": {},
     "output_type": "execute_result"
    }
   ],
   "source": [
    "rewiews_uri[rewiews_uri.uuid=='FFEE8A53BC7A71413C7B556AD4825A465']"
   ]
  }
 ],
 "metadata": {
  "kernelspec": {
   "display_name": "Python 3 (ipykernel)",
   "language": "python",
   "name": "python3"
  },
  "language_info": {
   "codemirror_mode": {
    "name": "ipython",
    "version": 3
   },
   "file_extension": ".py",
   "mimetype": "text/x-python",
   "name": "python",
   "nbconvert_exporter": "python",
   "pygments_lexer": "ipython3",
   "version": "3.11.5"
  },
  "toc": {
   "base_numbering": 1,
   "nav_menu": {},
   "number_sections": true,
   "sideBar": true,
   "skip_h1_title": false,
   "title_cell": "Table of Contents",
   "title_sidebar": "Contents",
   "toc_cell": false,
   "toc_position": {},
   "toc_section_display": true,
   "toc_window_display": false
  }
 },
 "nbformat": 4,
 "nbformat_minor": 5
}
